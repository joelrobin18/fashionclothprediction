{
  "cells": [
    {
      "cell_type": "markdown",
      "metadata": {
        "colab_type": "text",
        "id": "view-in-github"
      },
      "source": [
        "<a href=\"https://colab.research.google.com/github/joelrobin18/S6-Code/blob/pytorch/Lesson/pytorch_computer_vision.ipynb\" target=\"_parent\"><img src=\"https://colab.research.google.com/assets/colab-badge.svg\" alt=\"Open In Colab\"/></a>"
      ]
    },
    {
      "cell_type": "code",
      "execution_count": 61,
      "metadata": {
        "id": "HQ1F_PzjC4vJ"
      },
      "outputs": [],
      "source": [
        "## All the required Libraries\n",
        "import torch as t\n",
        "from torch import nn\n",
        "import torchvision as tv\n",
        "from torchvision import datasets as tvd\n",
        "from torchvision import transforms as tvt\n",
        "import matplotlib.pyplot as plt\n",
        "from torch.utils.data import DataLoader\n",
        "from torchmetrics import Accuracy\n",
        "from torchmetrics import ConfusionMatrix as CM\n",
        "import pandas as pd\n",
        "from mlxtend.plotting import plot_confusion_matrix\n",
        "from sklearn.metrics import confusion_matrix"
      ]
    },
    {
      "cell_type": "code",
      "execution_count": 2,
      "metadata": {
        "colab": {
          "base_uri": "https://localhost:8080/",
          "height": 35
        },
        "id": "a_wPIomRDq7k",
        "outputId": "3b9bd207-aae0-4942-eb5c-ce51475fd849"
      },
      "outputs": [
        {
          "data": {
            "text/plain": [
              "'cuda'"
            ]
          },
          "execution_count": 2,
          "metadata": {},
          "output_type": "execute_result"
        }
      ],
      "source": [
        "device = \"cuda\" if t.cuda.is_available() else \"cpu\"\n",
        "device"
      ]
    },
    {
      "cell_type": "markdown",
      "metadata": {
        "id": "KTQns7DAC4vL"
      },
      "source": [
        "### Creating our own Datasets using TorchVision\n",
        "\n",
        "#### We use FashionMNIST"
      ]
    },
    {
      "cell_type": "code",
      "execution_count": 3,
      "metadata": {
        "colab": {
          "base_uri": "https://localhost:8080/",
          "height": 423,
          "referenced_widgets": [
            "0b5404d0e8ec4f9687f2b80b753fea56",
            "4edef4a443a749ab808b8695455d0603",
            "698c2b35525a40cd8616d0da4da411da",
            "fc706290d5e84df88703b64e182597cf",
            "0e291193557c4f76aeca39727bd4adf2",
            "092183c655c5441289313cdf18463bd5",
            "5f18e418082d4306aaf2afd3a8a66c47",
            "95ee98e9c3d34f98a19be96f7949ccad",
            "023c7413029a47f4b588bf4ba2283334",
            "9b90b5d11d1d48baa275a2252123b922",
            "be003dc6e5304477b7d78d6bc05007ad",
            "5135ce19957d45ed9c7b9fc41706a4b2",
            "47fb1c7a4bb348cb868bb9457b4b4c41",
            "044345562ec347418523b8cec01f04c6",
            "7e0b3ad893b249a7a8bfa3b3bf34584e",
            "54b7c4fc9ac845a79a9477d078a7a1e6",
            "564497f59541450587668098172d72c0",
            "58d8c4e31ccc4a52bf3b669ac2514548",
            "49384fa27ff84bb688123ea6971bbc81",
            "21019e1f6a7e45fbad93f60b2c67783f",
            "278493b370fc4b3398a729bfbc906030",
            "35d21fd28c564c59b9b096280e809571",
            "cd4bec77507d49cdaf8155e124f88953",
            "6a1a2763eda4443f8c6d14b41468ad77",
            "73535d59791b4d83ac7b95fe9d51083c",
            "3f9f9b6f99de440bb9bb28e761dfa9c0",
            "66b3a38c138a41a59155d4b63292c19f",
            "6e499bdaf2304fc5bb5e09af4acb6b12",
            "8d81d52032f54bdeb1e8a446783d8b9f",
            "edd34d9591144397b191d012ed8dce4e",
            "7ae5452196024fa287ce14ae3d9fab61",
            "c0b39033793344cd9899878505beb3e2",
            "41d14f13cf3143eebf5983fe296b07e5",
            "c185ec64013644a390a9eb3b35becd85",
            "9e247683c47c4899be07f8da2af2debb",
            "b8293919e0874c24ad75cffe23453199",
            "11895f27bb3b46ba992420543606dadd",
            "e43092482e364d4ebae2c574915cc937",
            "5a931ed1bed94270852277b6505b361e",
            "cdfbadb45d8b4d93b5386afb97963dfb",
            "b70ec79a2d2146408826cc34e1899b09",
            "f5440b5dae384f349289cd4f699c1b2e",
            "7204fb7753d548fa8d79697586982658",
            "34765000b25344c7bae4e87e754fb874"
          ]
        },
        "id": "5CJHgBxfC4vM",
        "outputId": "6d117d7e-2f39-4eb5-95ea-9da97006d7db"
      },
      "outputs": [
        {
          "name": "stdout",
          "output_type": "stream",
          "text": [
            "Downloading http://fashion-mnist.s3-website.eu-central-1.amazonaws.com/train-images-idx3-ubyte.gz\n",
            "Downloading http://fashion-mnist.s3-website.eu-central-1.amazonaws.com/train-images-idx3-ubyte.gz to data\\FashionMNIST\\raw\\train-images-idx3-ubyte.gz\n"
          ]
        },
        {
          "data": {
            "application/vnd.jupyter.widget-view+json": {
              "model_id": "da8f00cc24dd4a81913a348ac72526df",
              "version_major": 2,
              "version_minor": 0
            },
            "text/plain": [
              "  0%|          | 0/26421880 [00:00<?, ?it/s]"
            ]
          },
          "metadata": {},
          "output_type": "display_data"
        },
        {
          "name": "stdout",
          "output_type": "stream",
          "text": [
            "Extracting data\\FashionMNIST\\raw\\train-images-idx3-ubyte.gz to data\\FashionMNIST\\raw\n",
            "\n",
            "Downloading http://fashion-mnist.s3-website.eu-central-1.amazonaws.com/train-labels-idx1-ubyte.gz\n",
            "Downloading http://fashion-mnist.s3-website.eu-central-1.amazonaws.com/train-labels-idx1-ubyte.gz to data\\FashionMNIST\\raw\\train-labels-idx1-ubyte.gz\n"
          ]
        },
        {
          "data": {
            "application/vnd.jupyter.widget-view+json": {
              "model_id": "23024af339a9447dbf89cacc1e0b3784",
              "version_major": 2,
              "version_minor": 0
            },
            "text/plain": [
              "  0%|          | 0/29515 [00:00<?, ?it/s]"
            ]
          },
          "metadata": {},
          "output_type": "display_data"
        },
        {
          "name": "stdout",
          "output_type": "stream",
          "text": [
            "Extracting data\\FashionMNIST\\raw\\train-labels-idx1-ubyte.gz to data\\FashionMNIST\\raw\n",
            "\n",
            "Downloading http://fashion-mnist.s3-website.eu-central-1.amazonaws.com/t10k-images-idx3-ubyte.gz\n",
            "Downloading http://fashion-mnist.s3-website.eu-central-1.amazonaws.com/t10k-images-idx3-ubyte.gz to data\\FashionMNIST\\raw\\t10k-images-idx3-ubyte.gz\n"
          ]
        },
        {
          "data": {
            "application/vnd.jupyter.widget-view+json": {
              "model_id": "34272b37b4064fb48f2a15bf1224d54e",
              "version_major": 2,
              "version_minor": 0
            },
            "text/plain": [
              "  0%|          | 0/4422102 [00:00<?, ?it/s]"
            ]
          },
          "metadata": {},
          "output_type": "display_data"
        },
        {
          "name": "stdout",
          "output_type": "stream",
          "text": [
            "Extracting data\\FashionMNIST\\raw\\t10k-images-idx3-ubyte.gz to data\\FashionMNIST\\raw\n",
            "\n",
            "Downloading http://fashion-mnist.s3-website.eu-central-1.amazonaws.com/t10k-labels-idx1-ubyte.gz\n",
            "Downloading http://fashion-mnist.s3-website.eu-central-1.amazonaws.com/t10k-labels-idx1-ubyte.gz to data\\FashionMNIST\\raw\\t10k-labels-idx1-ubyte.gz\n"
          ]
        },
        {
          "data": {
            "application/vnd.jupyter.widget-view+json": {
              "model_id": "f1655f4213e043e9aca28e9d7157efae",
              "version_major": 2,
              "version_minor": 0
            },
            "text/plain": [
              "  0%|          | 0/5148 [00:00<?, ?it/s]"
            ]
          },
          "metadata": {},
          "output_type": "display_data"
        },
        {
          "name": "stdout",
          "output_type": "stream",
          "text": [
            "Extracting data\\FashionMNIST\\raw\\t10k-labels-idx1-ubyte.gz to data\\FashionMNIST\\raw\n",
            "\n"
          ]
        }
      ],
      "source": [
        "## Dataset Creation using FashionMNIST\n",
        "\n",
        "train_data=tvd.FashionMNIST(\n",
        "    root=\"data\", ## Root directory\n",
        "    train=True, ## Training or testing Dataset\n",
        "    download=True, ## Download or not\n",
        "    transform=tvt.ToTensor(), ## Any transforms using torch.transforms\n",
        "    target_transform=None ## Transforms on target element\n",
        ")\n",
        "\n",
        "test_data=tvd.FashionMNIST(\n",
        "    root=\"data\",\n",
        "    download=True,\n",
        "    train=False,\n",
        "    transform=tvt.ToTensor(),\n",
        "    target_transform=None\n",
        ")"
      ]
    },
    {
      "cell_type": "markdown",
      "metadata": {
        "id": "WPaocFq3C4vO"
      },
      "source": [
        "### Dataset functions\n",
        "\n",
        "#### .classes :- Shows us all the classes present\n",
        "#### .class_to_idx :- Shows us all the dictionaries present"
      ]
    },
    {
      "cell_type": "code",
      "execution_count": 4,
      "metadata": {
        "colab": {
          "base_uri": "https://localhost:8080/"
        },
        "id": "TFUbHcSQC4vO",
        "outputId": "57d8589a-a41d-4651-9d03-b381fd0ae807"
      },
      "outputs": [
        {
          "name": "stdout",
          "output_type": "stream",
          "text": [
            "60000 10000\n",
            "['T-shirt/top', 'Trouser', 'Pullover', 'Dress', 'Coat', 'Sandal', 'Shirt', 'Sneaker', 'Bag', 'Ankle boot']\n",
            "{'T-shirt/top': 0, 'Trouser': 1, 'Pullover': 2, 'Dress': 3, 'Coat': 4, 'Sandal': 5, 'Shirt': 6, 'Sneaker': 7, 'Bag': 8, 'Ankle boot': 9}\n"
          ]
        }
      ],
      "source": [
        "train_data[5],test_data[5]\n",
        "print(len(train_data),len(test_data))\n",
        "class_name=train_data.classes\n",
        "class_to_idx=train_data.class_to_idx\n",
        "print(class_name)\n",
        "print(class_to_idx)"
      ]
    },
    {
      "cell_type": "code",
      "execution_count": 5,
      "metadata": {
        "colab": {
          "base_uri": "https://localhost:8080/"
        },
        "id": "yXf8AESAC4vP",
        "outputId": "873c35b2-bd85-4f86-f19a-4063d5a2bf7b"
      },
      "outputs": [
        {
          "name": "stdout",
          "output_type": "stream",
          "text": [
            "Image: tensor([[[0.0000, 0.0000, 0.0000, 0.0000, 0.0000, 0.0000, 0.0000, 0.0000,\n",
            "          0.0000, 0.0000, 0.0000, 0.0000, 0.0000, 0.0000, 0.0000, 0.0000,\n",
            "          0.0000, 0.0000, 0.0000, 0.0000, 0.0000, 0.0000, 0.0000, 0.0000,\n",
            "          0.0000, 0.0000, 0.0000, 0.0000],\n",
            "         [0.0000, 0.0000, 0.0000, 0.0000, 0.0000, 0.0000, 0.0000, 0.0000,\n",
            "          0.0000, 0.0000, 0.0000, 0.0000, 0.0000, 0.0000, 0.0000, 0.0000,\n",
            "          0.0000, 0.0000, 0.0000, 0.0000, 0.0000, 0.0000, 0.0000, 0.0000,\n",
            "          0.0000, 0.0000, 0.0000, 0.0000],\n",
            "         [0.0000, 0.0000, 0.0000, 0.0000, 0.0000, 0.0000, 0.0000, 0.0000,\n",
            "          0.0000, 0.0000, 0.0000, 0.0000, 0.0000, 0.0000, 0.0000, 0.0000,\n",
            "          0.0000, 0.0000, 0.0000, 0.0000, 0.0000, 0.0000, 0.0000, 0.0000,\n",
            "          0.0000, 0.0000, 0.0000, 0.0000],\n",
            "         [0.0000, 0.0000, 0.0000, 0.0000, 0.0000, 0.0000, 0.0000, 0.0000,\n",
            "          0.0000, 0.0000, 0.0000, 0.0000, 0.0039, 0.0000, 0.0000, 0.0510,\n",
            "          0.2863, 0.0000, 0.0000, 0.0039, 0.0157, 0.0000, 0.0000, 0.0000,\n",
            "          0.0000, 0.0039, 0.0039, 0.0000],\n",
            "         [0.0000, 0.0000, 0.0000, 0.0000, 0.0000, 0.0000, 0.0000, 0.0000,\n",
            "          0.0000, 0.0000, 0.0000, 0.0000, 0.0118, 0.0000, 0.1412, 0.5333,\n",
            "          0.4980, 0.2431, 0.2118, 0.0000, 0.0000, 0.0000, 0.0039, 0.0118,\n",
            "          0.0157, 0.0000, 0.0000, 0.0118],\n",
            "         [0.0000, 0.0000, 0.0000, 0.0000, 0.0000, 0.0000, 0.0000, 0.0000,\n",
            "          0.0000, 0.0000, 0.0000, 0.0000, 0.0235, 0.0000, 0.4000, 0.8000,\n",
            "          0.6902, 0.5255, 0.5647, 0.4824, 0.0902, 0.0000, 0.0000, 0.0000,\n",
            "          0.0000, 0.0471, 0.0392, 0.0000],\n",
            "         [0.0000, 0.0000, 0.0000, 0.0000, 0.0000, 0.0000, 0.0000, 0.0000,\n",
            "          0.0000, 0.0000, 0.0000, 0.0000, 0.0000, 0.0000, 0.6078, 0.9255,\n",
            "          0.8118, 0.6980, 0.4196, 0.6118, 0.6314, 0.4275, 0.2510, 0.0902,\n",
            "          0.3020, 0.5098, 0.2824, 0.0588],\n",
            "         [0.0000, 0.0000, 0.0000, 0.0000, 0.0000, 0.0000, 0.0000, 0.0000,\n",
            "          0.0000, 0.0000, 0.0000, 0.0039, 0.0000, 0.2706, 0.8118, 0.8745,\n",
            "          0.8549, 0.8471, 0.8471, 0.6392, 0.4980, 0.4745, 0.4784, 0.5725,\n",
            "          0.5529, 0.3451, 0.6745, 0.2588],\n",
            "         [0.0000, 0.0000, 0.0000, 0.0000, 0.0000, 0.0000, 0.0000, 0.0000,\n",
            "          0.0000, 0.0039, 0.0039, 0.0039, 0.0000, 0.7843, 0.9098, 0.9098,\n",
            "          0.9137, 0.8980, 0.8745, 0.8745, 0.8431, 0.8353, 0.6431, 0.4980,\n",
            "          0.4824, 0.7686, 0.8980, 0.0000],\n",
            "         [0.0000, 0.0000, 0.0000, 0.0000, 0.0000, 0.0000, 0.0000, 0.0000,\n",
            "          0.0000, 0.0000, 0.0000, 0.0000, 0.0000, 0.7176, 0.8824, 0.8471,\n",
            "          0.8745, 0.8941, 0.9216, 0.8902, 0.8784, 0.8706, 0.8784, 0.8667,\n",
            "          0.8745, 0.9608, 0.6784, 0.0000],\n",
            "         [0.0000, 0.0000, 0.0000, 0.0000, 0.0000, 0.0000, 0.0000, 0.0000,\n",
            "          0.0000, 0.0000, 0.0000, 0.0000, 0.0000, 0.7569, 0.8941, 0.8549,\n",
            "          0.8353, 0.7765, 0.7059, 0.8314, 0.8235, 0.8275, 0.8353, 0.8745,\n",
            "          0.8627, 0.9529, 0.7922, 0.0000],\n",
            "         [0.0000, 0.0000, 0.0000, 0.0000, 0.0000, 0.0000, 0.0000, 0.0000,\n",
            "          0.0000, 0.0039, 0.0118, 0.0000, 0.0471, 0.8588, 0.8627, 0.8314,\n",
            "          0.8549, 0.7529, 0.6627, 0.8902, 0.8157, 0.8549, 0.8784, 0.8314,\n",
            "          0.8863, 0.7725, 0.8196, 0.2039],\n",
            "         [0.0000, 0.0000, 0.0000, 0.0000, 0.0000, 0.0000, 0.0000, 0.0000,\n",
            "          0.0000, 0.0000, 0.0235, 0.0000, 0.3882, 0.9569, 0.8706, 0.8627,\n",
            "          0.8549, 0.7961, 0.7765, 0.8667, 0.8431, 0.8353, 0.8706, 0.8627,\n",
            "          0.9608, 0.4667, 0.6549, 0.2196],\n",
            "         [0.0000, 0.0000, 0.0000, 0.0000, 0.0000, 0.0000, 0.0000, 0.0000,\n",
            "          0.0000, 0.0157, 0.0000, 0.0000, 0.2157, 0.9255, 0.8941, 0.9020,\n",
            "          0.8941, 0.9412, 0.9098, 0.8353, 0.8549, 0.8745, 0.9176, 0.8510,\n",
            "          0.8510, 0.8196, 0.3608, 0.0000],\n",
            "         [0.0000, 0.0000, 0.0039, 0.0157, 0.0235, 0.0275, 0.0078, 0.0000,\n",
            "          0.0000, 0.0000, 0.0000, 0.0000, 0.9294, 0.8863, 0.8510, 0.8745,\n",
            "          0.8706, 0.8588, 0.8706, 0.8667, 0.8471, 0.8745, 0.8980, 0.8431,\n",
            "          0.8549, 1.0000, 0.3020, 0.0000],\n",
            "         [0.0000, 0.0118, 0.0000, 0.0000, 0.0000, 0.0000, 0.0000, 0.0000,\n",
            "          0.0000, 0.2431, 0.5686, 0.8000, 0.8941, 0.8118, 0.8353, 0.8667,\n",
            "          0.8549, 0.8157, 0.8275, 0.8549, 0.8784, 0.8745, 0.8588, 0.8431,\n",
            "          0.8784, 0.9569, 0.6235, 0.0000],\n",
            "         [0.0000, 0.0000, 0.0000, 0.0000, 0.0706, 0.1725, 0.3216, 0.4196,\n",
            "          0.7412, 0.8941, 0.8627, 0.8706, 0.8510, 0.8863, 0.7843, 0.8039,\n",
            "          0.8275, 0.9020, 0.8784, 0.9176, 0.6902, 0.7373, 0.9804, 0.9725,\n",
            "          0.9137, 0.9333, 0.8431, 0.0000],\n",
            "         [0.0000, 0.2235, 0.7333, 0.8157, 0.8784, 0.8667, 0.8784, 0.8157,\n",
            "          0.8000, 0.8392, 0.8157, 0.8196, 0.7843, 0.6235, 0.9608, 0.7569,\n",
            "          0.8078, 0.8745, 1.0000, 1.0000, 0.8667, 0.9176, 0.8667, 0.8275,\n",
            "          0.8627, 0.9098, 0.9647, 0.0000],\n",
            "         [0.0118, 0.7922, 0.8941, 0.8784, 0.8667, 0.8275, 0.8275, 0.8392,\n",
            "          0.8039, 0.8039, 0.8039, 0.8627, 0.9412, 0.3137, 0.5882, 1.0000,\n",
            "          0.8980, 0.8667, 0.7373, 0.6039, 0.7490, 0.8235, 0.8000, 0.8196,\n",
            "          0.8706, 0.8941, 0.8824, 0.0000],\n",
            "         [0.3843, 0.9137, 0.7765, 0.8235, 0.8706, 0.8980, 0.8980, 0.9176,\n",
            "          0.9765, 0.8627, 0.7608, 0.8431, 0.8510, 0.9451, 0.2549, 0.2863,\n",
            "          0.4157, 0.4588, 0.6588, 0.8588, 0.8667, 0.8431, 0.8510, 0.8745,\n",
            "          0.8745, 0.8784, 0.8980, 0.1137],\n",
            "         [0.2941, 0.8000, 0.8314, 0.8000, 0.7569, 0.8039, 0.8275, 0.8824,\n",
            "          0.8471, 0.7255, 0.7725, 0.8078, 0.7765, 0.8353, 0.9412, 0.7647,\n",
            "          0.8902, 0.9608, 0.9373, 0.8745, 0.8549, 0.8314, 0.8196, 0.8706,\n",
            "          0.8627, 0.8667, 0.9020, 0.2627],\n",
            "         [0.1882, 0.7961, 0.7176, 0.7608, 0.8353, 0.7725, 0.7255, 0.7451,\n",
            "          0.7608, 0.7529, 0.7922, 0.8392, 0.8588, 0.8667, 0.8627, 0.9255,\n",
            "          0.8824, 0.8471, 0.7804, 0.8078, 0.7294, 0.7098, 0.6941, 0.6745,\n",
            "          0.7098, 0.8039, 0.8078, 0.4510],\n",
            "         [0.0000, 0.4784, 0.8588, 0.7569, 0.7020, 0.6706, 0.7176, 0.7686,\n",
            "          0.8000, 0.8235, 0.8353, 0.8118, 0.8275, 0.8235, 0.7843, 0.7686,\n",
            "          0.7608, 0.7490, 0.7647, 0.7490, 0.7765, 0.7529, 0.6902, 0.6118,\n",
            "          0.6549, 0.6941, 0.8235, 0.3608],\n",
            "         [0.0000, 0.0000, 0.2902, 0.7412, 0.8314, 0.7490, 0.6863, 0.6745,\n",
            "          0.6863, 0.7098, 0.7255, 0.7373, 0.7412, 0.7373, 0.7569, 0.7765,\n",
            "          0.8000, 0.8196, 0.8235, 0.8235, 0.8275, 0.7373, 0.7373, 0.7608,\n",
            "          0.7529, 0.8471, 0.6667, 0.0000],\n",
            "         [0.0078, 0.0000, 0.0000, 0.0000, 0.2588, 0.7843, 0.8706, 0.9294,\n",
            "          0.9373, 0.9490, 0.9647, 0.9529, 0.9569, 0.8667, 0.8627, 0.7569,\n",
            "          0.7490, 0.7020, 0.7137, 0.7137, 0.7098, 0.6902, 0.6510, 0.6588,\n",
            "          0.3882, 0.2275, 0.0000, 0.0000],\n",
            "         [0.0000, 0.0000, 0.0000, 0.0000, 0.0000, 0.0000, 0.0000, 0.1569,\n",
            "          0.2392, 0.1725, 0.2824, 0.1608, 0.1373, 0.0000, 0.0000, 0.0000,\n",
            "          0.0000, 0.0000, 0.0000, 0.0000, 0.0000, 0.0000, 0.0000, 0.0000,\n",
            "          0.0000, 0.0000, 0.0000, 0.0000],\n",
            "         [0.0000, 0.0000, 0.0000, 0.0000, 0.0000, 0.0000, 0.0000, 0.0000,\n",
            "          0.0000, 0.0000, 0.0000, 0.0000, 0.0000, 0.0000, 0.0000, 0.0000,\n",
            "          0.0000, 0.0000, 0.0000, 0.0000, 0.0000, 0.0000, 0.0000, 0.0000,\n",
            "          0.0000, 0.0000, 0.0000, 0.0000],\n",
            "         [0.0000, 0.0000, 0.0000, 0.0000, 0.0000, 0.0000, 0.0000, 0.0000,\n",
            "          0.0000, 0.0000, 0.0000, 0.0000, 0.0000, 0.0000, 0.0000, 0.0000,\n",
            "          0.0000, 0.0000, 0.0000, 0.0000, 0.0000, 0.0000, 0.0000, 0.0000,\n",
            "          0.0000, 0.0000, 0.0000, 0.0000]]]) || Label: 9\n",
            "Type of Image: <class 'torch.Tensor'> || Type of Label: <class 'int'>\n",
            "Shape of Image: torch.Size([1, 28, 28]) || Shape of Label: 9\n"
          ]
        }
      ],
      "source": [
        "## Some more operations\n",
        "\n",
        "image,label=train_data[0]\n",
        "print(f\"Image: {image} || Label: {label}\")\n",
        "print(f\"Type of Image: {type(image)} || Type of Label: {type(label)}\")\n",
        "print(f\"Shape of Image: {image.shape} || Shape of Label: {label}\")"
      ]
    },
    {
      "cell_type": "code",
      "execution_count": 6,
      "metadata": {
        "colab": {
          "base_uri": "https://localhost:8080/",
          "height": 390
        },
        "id": "iny9emVYC4vP",
        "outputId": "c5bbb125-ffa0-48e9-ba62-6f4bed6877de"
      },
      "outputs": [
        {
          "data": {
            "text/plain": [
              "(-0.5, 27.5, 27.5, -0.5)"
            ]
          },
          "execution_count": 6,
          "metadata": {},
          "output_type": "execute_result"
        },
        {
          "data": {
            "image/png": "[encoded data removed]",
            "text/plain": [
              "<Figure size 900x600 with 1 Axes>"
            ]
          },
          "metadata": {},
          "output_type": "display_data"
        }
      ],
      "source": [
        "## Vizualization as Images\n",
        "\n",
        "img,img_label=train_data[0]\n",
        "plt.figure(figsize=(9,6))\n",
        "plt.imshow(img.squeeze(),cmap=\"gray\")\n",
        "plt.title(class_name[img_label])\n",
        "plt.axis(False)"
      ]
    },
    {
      "cell_type": "code",
      "execution_count": 7,
      "metadata": {
        "colab": {
          "base_uri": "https://localhost:8080/",
          "height": 536
        },
        "id": "3wB-n64vC4vP",
        "outputId": "1086e2f8-a027-4ed0-9713-0af806b598f4"
      },
      "outputs": [
        {
          "data": {
            "image/png": "[encoded data removed]",
            "text/plain": [
              "<Figure size 900x900 with 25 Axes>"
            ]
          },
          "metadata": {},
          "output_type": "display_data"
        }
      ],
      "source": [
        "## Vizualize random images\n",
        "\n",
        "t.manual_seed(0)\n",
        "\n",
        "r=5\n",
        "c=5\n",
        "fig= plt.figure(figsize=(9,9))\n",
        "\n",
        "for i in range(1,r*c+1):\n",
        "    ind=t.randint(0,len(train_data),size=[1]).item()\n",
        "    imgs,labels=train_data[ind]\n",
        "    fig.add_subplot(r,c,i)\n",
        "    plt.imshow(imgs.squeeze(),cmap=\"gray\")\n",
        "    plt.title(class_name[labels])\n",
        "    plt.axis(False)"
      ]
    },
    {
      "cell_type": "code",
      "execution_count": 8,
      "metadata": {
        "colab": {
          "base_uri": "https://localhost:8080/"
        },
        "id": "oUYSDVU6C4vQ",
        "outputId": "a030b4dc-6e25-46bf-dfe9-bc3c20e35a31"
      },
      "outputs": [
        {
          "data": {
            "text/plain": [
              "(Dataset FashionMNIST\n",
              "     Number of datapoints: 60000\n",
              "     Root location: data\n",
              "     Split: Train\n",
              "     StandardTransform\n",
              " Transform: ToTensor(),\n",
              " Dataset FashionMNIST\n",
              "     Number of datapoints: 10000\n",
              "     Root location: data\n",
              "     Split: Test\n",
              "     StandardTransform\n",
              " Transform: ToTensor())"
            ]
          },
          "execution_count": 8,
          "metadata": {},
          "output_type": "execute_result"
        }
      ],
      "source": [
        "train_data,test_data"
      ]
    },
    {
      "cell_type": "code",
      "execution_count": 9,
      "metadata": {
        "id": "vrk0dAIFC4vQ"
      },
      "outputs": [],
      "source": [
        "### Making mini batches using DataLoader\n",
        "\n",
        "train_data_loader=DataLoader(\n",
        "    train_data,\n",
        "    batch_size=32,\n",
        "    shuffle=True\n",
        ")\n",
        "\n",
        "test_data_loader=DataLoader(\n",
        "    test_data,\n",
        "    batch_size=32,\n",
        "    shuffle=False\n",
        ")\n",
        "\n",
        "# train_data_loader.shape,test_data_loader.shape"
      ]
    },
    {
      "cell_type": "code",
      "execution_count": 10,
      "metadata": {
        "colab": {
          "base_uri": "https://localhost:8080/"
        },
        "id": "O81wsyoaFVGp",
        "outputId": "4e4fccdf-9789-467c-d6ad-eec2175205fd"
      },
      "outputs": [
        {
          "name": "stdout",
          "output_type": "stream",
          "text": [
            "Batch Size: 32\n",
            "Num Workers: 0\n",
            "Generator: None\n",
            "Data Set: Dataset FashionMNIST\n",
            "    Number of datapoints: 60000\n",
            "    Root location: data\n",
            "    Split: Train\n",
            "    StandardTransform\n",
            "Transform: ToTensor()\n",
            "Length of Train Data Set: 1875\n",
            "Length of Test Data Set: 313\n"
          ]
        }
      ],
      "source": [
        "## Printing Different atributes\n",
        "\n",
        "print(f\"Batch Size: {train_data_loader.batch_size}\")\n",
        "print(f\"Num Workers: {train_data_loader.num_workers}\")\n",
        "print(f\"Generator: {train_data_loader.generator}\")\n",
        "print(f\"Data Set: {train_data_loader.dataset}\")\n",
        "print(f\"Length of Train Data Set: {len(train_data_loader)}\")\n",
        "print(f\"Length of Test Data Set: {len(test_data_loader)}\")"
      ]
    },
    {
      "cell_type": "code",
      "execution_count": 11,
      "metadata": {
        "colab": {
          "base_uri": "https://localhost:8080/",
          "height": 298
        },
        "id": "NBjeWFrkEaVS",
        "outputId": "a96fc6b0-2d46-4356-e45b-26565241f8ef"
      },
      "outputs": [
        {
          "data": {
            "text/plain": [
              "Text(0.5, 1.0, 'Sneaker')"
            ]
          },
          "execution_count": 11,
          "metadata": {},
          "output_type": "execute_result"
        },
        {
          "data": {
            "image/png": "[encoded data removed]",
            "text/plain": [
              "<Figure size 640x480 with 1 Axes>"
            ]
          },
          "metadata": {},
          "output_type": "display_data"
        }
      ],
      "source": [
        "train_features,train_label=next(iter(train_data_loader))\n",
        "train_features.shape,train_label.shape\n",
        "### Creating Random Image from batch\n",
        "\n",
        "ind = t.randint(0,len(train_features),size=[1]).item()\n",
        "plt.imshow(train_features[ind].squeeze(),cmap=\"gray\")\n",
        "plt.title(class_name[train_label[ind]])"
      ]
    },
    {
      "cell_type": "code",
      "execution_count": 12,
      "metadata": {
        "id": "Bk_zUb30Hvbj"
      },
      "outputs": [],
      "source": [
        "# Creating our BaseLine model\n",
        "\n",
        "class Model0(nn.Module):\n",
        "    def __init__(self,inp,hidden,out):\n",
        "        super().__init__()\n",
        "        \n",
        "        self.l1=nn.Sequential(\n",
        "            nn.Flatten(),\n",
        "            nn.Linear(in_features=inp,out_features=hidden),\n",
        "            nn.Linear(in_features=hidden,out_features=hidden),\n",
        "            nn.Linear(in_features=hidden,out_features=out)\n",
        "        )\n",
        "        \n",
        "    def forward(self,x):\n",
        "        return self.l1(x)"
      ]
    },
    {
      "cell_type": "code",
      "execution_count": 13,
      "metadata": {},
      "outputs": [
        {
          "data": {
            "text/plain": [
              "torch.Size([1, 784])"
            ]
          },
          "execution_count": 13,
          "metadata": {},
          "output_type": "execute_result"
        }
      ],
      "source": [
        "a=train_features[0]\n",
        "a.shape\n",
        "\n",
        "flat= nn.Flatten()\n",
        "\n",
        "b=flat(a)\n",
        "b.shape"
      ]
    },
    {
      "cell_type": "code",
      "execution_count": 14,
      "metadata": {},
      "outputs": [],
      "source": [
        "inp=784\n",
        "hidd=15\n",
        "out=len(class_name)\n",
        "model0 = Model0(inp,hidd,out)"
      ]
    },
    {
      "cell_type": "code",
      "execution_count": 15,
      "metadata": {},
      "outputs": [],
      "source": [
        "# Loss Function and Optimizer\n",
        "\n",
        "loss_fn0 = nn.CrossEntropyLoss()\n",
        "optim0 = t.optim.SGD(params=model0.parameters(),\n",
        "                    lr=0.01)\n",
        "accuracy = Accuracy(task=\"multiclass\",num_classes=len(class_name))\n",
        "conf=CM(task=\"multiclass\",num_classes=len(class_name))"
      ]
    },
    {
      "cell_type": "code",
      "execution_count": 16,
      "metadata": {},
      "outputs": [],
      "source": [
        "# Training and Testing Function\n",
        "\n",
        "def train_function(model:t.nn.Module,\n",
        "                    lossfn:t.nn.Module,\n",
        "                    optim:t.optim.Optimizer,\n",
        "                    data_loader:DataLoader, \n",
        "                    accuracy:Accuracy,\n",
        "                    ):\n",
        "    total_loss=0\n",
        "    total_acc=0\n",
        "    for count,(x,y) in enumerate(data_loader): ## Training dataset should be passed as the data_loader. It contain both data and corresponding labels assosiated with it\n",
        "            \n",
        "        model.train()\n",
        "        y_pred=model(x)\n",
        "        loss=lossfn(y_pred,y)\n",
        "        acc=accuracy(y_pred,y)\n",
        "        \n",
        "        total_loss+=loss;\n",
        "        total_acc+=acc;\n",
        "        optim.zero_grad()\n",
        "        loss.backward()\n",
        "        optim.step()\n",
        "    \n",
        "    avg_loss=total_loss/len(data_loader)\n",
        "    avg_acc=total_acc/len(data_loader)\n",
        "    print(f\"Train Loss: {avg_loss} || Train Accuracy: {avg_acc}\")\n",
        "\n",
        "\n",
        "def test_function(model:t.nn.Module,\n",
        "                    lossfn:t.nn.Module,\n",
        "                    optim:t.optim.Optimizer,\n",
        "                    data_loader:DataLoader,\n",
        "                    accuracy:Accuracy,\n",
        "                    ):\n",
        "    \n",
        "    test_loss=0\n",
        "    test_acc=0;\n",
        "    \n",
        "    for count,(x,y) in enumerate(data_loader):\n",
        "        model.eval()\n",
        "        y_pred=model(x)\n",
        "        loss=lossfn(y_pred,y)\n",
        "        acc=accuracy(y_pred,y)\n",
        "        optim.zero_grad()\n",
        "        loss.backward()\n",
        "        optim.step()\n",
        "        \n",
        "        test_loss+=loss\n",
        "        test_acc+=acc\n",
        "        \n",
        "    test_loss/=len(data_loader)\n",
        "    test_acc/=len(data_loader)\n",
        "    \n",
        "    print(f\"Count: {count}|| Length: {len(data_loader)}\")\n",
        "    print(f\"Test Loss: {test_loss} || Test Accuracy: {test_acc}\")"
      ]
    },
    {
      "cell_type": "code",
      "execution_count": 18,
      "metadata": {},
      "outputs": [
        {
          "name": "stdout",
          "output_type": "stream",
          "text": [
            "Epoch: 0\n",
            "Train Loss: 0.41568300127983093 || Train Accuracy: 0.8551333546638489\n",
            "Count: 312|| Length: 313\n",
            "Test Loss: 0.44134658575057983 || Test Accuracy: 0.842851459980011\n",
            "Epoch: 1\n",
            "Train Loss: 0.4132104814052582 || Train Accuracy: 0.856166660785675\n",
            "Count: 312|| Length: 313\n",
            "Test Loss: 0.4381982088088989 || Test Accuracy: 0.8442491888999939\n",
            "Epoch: 2\n",
            "Train Loss: 0.41024792194366455 || Train Accuracy: 0.8570166826248169\n",
            "Count: 312|| Length: 313\n",
            "Test Loss: 0.4349500834941864 || Test Accuracy: 0.8449480533599854\n",
            "Epoch: 3\n",
            "Train Loss: 0.40692979097366333 || Train Accuracy: 0.8585000038146973\n",
            "Count: 312|| Length: 313\n",
            "Test Loss: 0.4325275719165802 || Test Accuracy: 0.8456469774246216\n",
            "Epoch: 4\n",
            "Train Loss: 0.4050780236721039 || Train Accuracy: 0.8592166900634766\n",
            "Count: 312|| Length: 313\n",
            "Test Loss: 0.4302588403224945 || Test Accuracy: 0.8469448685646057\n",
            "Epoch: 5\n",
            "Train Loss: 0.40279698371887207 || Train Accuracy: 0.8607500195503235\n",
            "Count: 312|| Length: 313\n",
            "Test Loss: 0.4281314015388489 || Test Accuracy: 0.8477436304092407\n",
            "Epoch: 6\n",
            "Train Loss: 0.4008816182613373 || Train Accuracy: 0.8609499931335449\n",
            "Count: 312|| Length: 313\n",
            "Test Loss: 0.425815612077713 || Test Accuracy: 0.848542332649231\n",
            "Epoch: 7\n",
            "Train Loss: 0.39971813559532166 || Train Accuracy: 0.8609833121299744\n",
            "Count: 312|| Length: 313\n",
            "Test Loss: 0.4245389401912689 || Test Accuracy: 0.8497403860092163\n",
            "Epoch: 8\n",
            "Train Loss: 0.3979077935218811 || Train Accuracy: 0.8616333603858948\n",
            "Count: 312|| Length: 313\n",
            "Test Loss: 0.42300766706466675 || Test Accuracy: 0.8516373634338379\n",
            "Epoch: 9\n",
            "Train Loss: 0.3966159224510193 || Train Accuracy: 0.86121666431427\n",
            "Count: 312|| Length: 313\n",
            "Test Loss: 0.42101842164993286 || Test Accuracy: 0.8514376878738403\n"
          ]
        }
      ],
      "source": [
        "# Training and Testing Loop for our Model\n",
        "\n",
        "epochs=10\n",
        "t.manual_seed(42)\n",
        "for epoch in range(epochs):\n",
        "    print(f\"Epoch: {epoch}\")\n",
        "    train_function(model0,loss_fn0,optim0,train_data_loader,accuracy)\n",
        "    test_function(model0,loss_fn0,optim0,test_data_loader,accuracy)"
      ]
    },
    {
      "cell_type": "code",
      "execution_count": 19,
      "metadata": {},
      "outputs": [],
      "source": [
        "# Building our Model with non Linearity\n",
        "\n",
        "class Model1(nn.Module):\n",
        "    def __init__(self,inp,hid,out):\n",
        "        super().__init__()\n",
        "        \n",
        "        self.l1=nn.Sequential(\n",
        "            nn.Flatten(),\n",
        "            nn.Linear(in_features=inp,out_features=hid),\n",
        "            nn.ReLU(),\n",
        "            nn.Linear(in_features=hid,out_features=hid),\n",
        "            nn.ReLU(),\n",
        "            nn.Linear(in_features=hid,out_features=hid),\n",
        "            nn.ReLU(),\n",
        "            nn.Linear(in_features=hid,out_features=hid),\n",
        "            nn.ReLU(),\n",
        "            nn.Linear(in_features=hid,out_features=hid),\n",
        "            nn.ReLU(),\n",
        "            nn.Linear(in_features=hid,out_features=out),\n",
        "            nn.ReLU()\n",
        "        )\n",
        "    \n",
        "    def forward(self,x:t.Tensor):\n",
        "        return self.l1(x)"
      ]
    },
    {
      "cell_type": "code",
      "execution_count": 20,
      "metadata": {},
      "outputs": [],
      "source": [
        "model1=Model1(inp,hidd,out)\n",
        "# Loss and Optimizer Fuction\n",
        "\n",
        "loss_fn1=nn.CrossEntropyLoss()\n",
        "optim1=t.optim.SGD(params=model1.parameters(),\n",
        "                lr=0.01)"
      ]
    },
    {
      "cell_type": "code",
      "execution_count": 21,
      "metadata": {},
      "outputs": [
        {
          "name": "stdout",
          "output_type": "stream",
          "text": [
            "Epoch: 0\n",
            "Train Loss: 2.298628568649292 || Train Accuracy: 0.16404999792575836\n",
            "Count: 312|| Length: 313\n",
            "Test Loss: 2.2681572437286377 || Test Accuracy: 0.19908146560192108\n",
            "Epoch: 1\n",
            "Train Loss: 1.9465833902359009 || Train Accuracy: 0.2237333357334137\n",
            "Count: 312|| Length: 313\n",
            "Test Loss: 1.7415416240692139 || Test Accuracy: 0.3422524034976959\n",
            "Epoch: 2\n",
            "Train Loss: 1.522265076637268 || Train Accuracy: 0.44495001435279846\n",
            "Count: 312|| Length: 313\n",
            "Test Loss: 1.2817970514297485 || Test Accuracy: 0.5540135502815247\n",
            "Epoch: 3\n",
            "Train Loss: 1.1765315532684326 || Train Accuracy: 0.5916500091552734\n",
            "Count: 312|| Length: 313\n",
            "Test Loss: 1.1130244731903076 || Test Accuracy: 0.6208066940307617\n",
            "Epoch: 4\n",
            "Train Loss: 1.0443843603134155 || Train Accuracy: 0.6435499787330627\n",
            "Count: 312|| Length: 313\n",
            "Test Loss: 1.009575605392456 || Test Accuracy: 0.6518570184707642\n",
            "Epoch: 5\n",
            "Train Loss: 0.9639630317687988 || Train Accuracy: 0.6646333336830139\n",
            "Count: 312|| Length: 313\n",
            "Test Loss: 0.956008791923523 || Test Accuracy: 0.6618410348892212\n",
            "Epoch: 6\n",
            "Train Loss: 0.9165560007095337 || Train Accuracy: 0.6777333617210388\n",
            "Count: 312|| Length: 313\n",
            "Test Loss: 0.9239259958267212 || Test Accuracy: 0.6718250513076782\n",
            "Epoch: 7\n",
            "Train Loss: 0.8873993754386902 || Train Accuracy: 0.6850833296775818\n",
            "Count: 312|| Length: 313\n",
            "Test Loss: 0.9020220041275024 || Test Accuracy: 0.6778154969215393\n",
            "Epoch: 8\n",
            "Train Loss: 0.8667047619819641 || Train Accuracy: 0.6919166445732117\n",
            "Count: 312|| Length: 313\n",
            "Test Loss: 0.8845122456550598 || Test Accuracy: 0.6837060451507568\n",
            "Epoch: 9\n",
            "Train Loss: 0.8490598201751709 || Train Accuracy: 0.6941499710083008\n",
            "Count: 312|| Length: 313\n",
            "Test Loss: 0.869186520576477 || Test Accuracy: 0.6878993511199951\n"
          ]
        }
      ],
      "source": [
        "# Traning and Testing Loop for our Model1\n",
        "\n",
        "epochs = 10\n",
        "for epoch in range(epochs):\n",
        "    print(f\"Epoch: {epoch}\")\n",
        "    train_function(model1,loss_fn1,optim1,train_data_loader,accuracy)\n",
        "    test_function(model1,loss_fn1,optim1,test_data_loader,accuracy)"
      ]
    },
    {
      "cell_type": "code",
      "execution_count": 23,
      "metadata": {},
      "outputs": [],
      "source": [
        "# Building our Convolutional Model using CNN\n",
        "\n",
        "class Model3(nn.Module):\n",
        "    def __init__(self,inp,hidd,out):\n",
        "        super().__init__()\n",
        "        self.l1=nn.Sequential(\n",
        "                    nn.Conv2d(in_channels=inp,\n",
        "                                out_channels=hidd,\n",
        "                                kernel_size=3,\n",
        "                                padding=1),\n",
        "                    nn.ReLU(),\n",
        "                    nn.Conv2d(in_channels=hidd,\n",
        "                                out_channels=hidd,\n",
        "                                kernel_size=3,\n",
        "                                padding=1),\n",
        "                    nn.ReLU(),\n",
        "                    nn.Conv2d(in_channels=hidd,\n",
        "                                out_channels=hidd,\n",
        "                                kernel_size=3,\n",
        "                                padding=1),\n",
        "                    nn.ReLU(),\n",
        "                    nn.MaxPool2d(kernel_size=2))\n",
        "        \n",
        "        self.l2=nn.Sequential(\n",
        "            nn.Conv2d(\n",
        "                in_channels=hidd,\n",
        "                out_channels=hidd,\n",
        "                kernel_size=3,\n",
        "                padding=1\n",
        "            ),\n",
        "            nn.Conv2d(\n",
        "                in_channels=hidd,\n",
        "                out_channels=hidd,\n",
        "                kernel_size=3,\n",
        "                padding=1\n",
        "            ),\n",
        "            nn.ReLU()\n",
        "        )\n",
        "        \n",
        "        self.l3=nn.Sequential(\n",
        "            nn.Conv2d(in_channels=hidd,\n",
        "                out_channels=hidd,\n",
        "                kernel_size=3,\n",
        "                padding=1),\n",
        "            nn.ReLU(),\n",
        "            nn.MaxPool2d(kernel_size=2)\n",
        "        )\n",
        "        \n",
        "        self.classifier=nn.Sequential(\n",
        "            nn.Flatten(),\n",
        "            nn.Linear(in_features=hidd*49,\n",
        "                    out_features=out)\n",
        "        )\n",
        "    \n",
        "    def forward(self,x:t.Tensor):\n",
        "        return self.classifier(self.l3(self.l2(self.l1(x))))"
      ]
    },
    {
      "cell_type": "code",
      "execution_count": 24,
      "metadata": {},
      "outputs": [
        {
          "data": {
            "text/plain": [
              "Model3(\n",
              "  (l1): Sequential(\n",
              "    (0): Conv2d(1, 15, kernel_size=(3, 3), stride=(1, 1), padding=(1, 1))\n",
              "    (1): ReLU()\n",
              "    (2): Conv2d(15, 15, kernel_size=(3, 3), stride=(1, 1), padding=(1, 1))\n",
              "    (3): ReLU()\n",
              "    (4): Conv2d(15, 15, kernel_size=(3, 3), stride=(1, 1), padding=(1, 1))\n",
              "    (5): ReLU()\n",
              "    (6): MaxPool2d(kernel_size=2, stride=2, padding=0, dilation=1, ceil_mode=False)\n",
              "  )\n",
              "  (l2): Sequential(\n",
              "    (0): Conv2d(15, 15, kernel_size=(3, 3), stride=(1, 1), padding=(1, 1))\n",
              "    (1): Conv2d(15, 15, kernel_size=(3, 3), stride=(1, 1), padding=(1, 1))\n",
              "    (2): ReLU()\n",
              "  )\n",
              "  (l3): Sequential(\n",
              "    (0): Conv2d(15, 15, kernel_size=(3, 3), stride=(1, 1), padding=(1, 1))\n",
              "    (1): ReLU()\n",
              "    (2): MaxPool2d(kernel_size=2, stride=2, padding=0, dilation=1, ceil_mode=False)\n",
              "  )\n",
              "  (classifier): Sequential(\n",
              "    (0): Flatten(start_dim=1, end_dim=-1)\n",
              "    (1): Linear(in_features=735, out_features=10, bias=True)\n",
              "  )\n",
              ")"
            ]
          },
          "execution_count": 24,
          "metadata": {},
          "output_type": "execute_result"
        }
      ],
      "source": [
        "model3=Model3(1,hidd,out)\n",
        "model3"
      ]
    },
    {
      "cell_type": "code",
      "execution_count": 25,
      "metadata": {},
      "outputs": [],
      "source": [
        "loss_fn3=nn.CrossEntropyLoss()\n",
        "optim3=t.optim.SGD(params=model3.parameters(), \n",
        "                    lr=0.01)"
      ]
    },
    {
      "cell_type": "code",
      "execution_count": 26,
      "metadata": {},
      "outputs": [
        {
          "name": "stdout",
          "output_type": "stream",
          "text": [
            "Epochs: 0\n",
            "Train Loss: 1.4775598049163818 || Train Accuracy: 0.45256665349006653\n",
            "Count: 312|| Length: 313\n",
            "Test Loss: 0.6306532621383667 || Test Accuracy: 0.7707667946815491\n",
            "Epochs: 1\n",
            "Train Loss: 0.49641844630241394 || Train Accuracy: 0.8225499987602234\n",
            "Count: 312|| Length: 313\n",
            "Test Loss: 0.4565172791481018 || Test Accuracy: 0.8387579917907715\n",
            "Epochs: 2\n",
            "Train Loss: 0.4021745026111603 || Train Accuracy: 0.8560000061988831\n",
            "Count: 312|| Length: 313\n",
            "Test Loss: 0.398421049118042 || Test Accuracy: 0.8565295338630676\n",
            "Epochs: 3\n",
            "Train Loss: 0.3589978814125061 || Train Accuracy: 0.8735499978065491\n",
            "Count: 312|| Length: 313\n",
            "Test Loss: 0.3642088770866394 || Test Accuracy: 0.8687100410461426\n",
            "Epochs: 4\n",
            "Train Loss: 0.3321486711502075 || Train Accuracy: 0.8805999755859375\n",
            "Count: 312|| Length: 313\n",
            "Test Loss: 0.34142181277275085 || Test Accuracy: 0.8765974640846252\n",
            "Epochs: 5\n",
            "Train Loss: 0.3126641809940338 || Train Accuracy: 0.8882166743278503\n",
            "Count: 312|| Length: 313\n",
            "Test Loss: 0.3247857987880707 || Test Accuracy: 0.8817891478538513\n",
            "Epochs: 6\n",
            "Train Loss: 0.2992551028728485 || Train Accuracy: 0.8924833536148071\n",
            "Count: 312|| Length: 313\n",
            "Test Loss: 0.312558650970459 || Test Accuracy: 0.8858826160430908\n",
            "Epochs: 7\n",
            "Train Loss: 0.2888888120651245 || Train Accuracy: 0.8970500230789185\n",
            "Count: 312|| Length: 313\n",
            "Test Loss: 0.3023045063018799 || Test Accuracy: 0.8892771601676941\n",
            "Epochs: 8\n",
            "Train Loss: 0.2785457372665405 || Train Accuracy: 0.8996000289916992\n",
            "Count: 312|| Length: 313\n",
            "Test Loss: 0.2931741774082184 || Test Accuracy: 0.892372190952301\n",
            "Epochs: 9\n",
            "Train Loss: 0.27210643887519836 || Train Accuracy: 0.9010666608810425\n",
            "Count: 312|| Length: 313\n",
            "Test Loss: 0.2845648527145386 || Test Accuracy: 0.8965654969215393\n"
          ]
        }
      ],
      "source": [
        "epochs = 10\n",
        "for epoch in range(epochs):\n",
        "    print(f\"Epochs: {epoch}\")\n",
        "    train_function(model3,loss_fn3,optim3,train_data_loader,accuracy)\n",
        "    test_function(model3,loss_fn3,optim3,test_data_loader,accuracy)"
      ]
    },
    {
      "cell_type": "code",
      "execution_count": 27,
      "metadata": {},
      "outputs": [],
      "source": [
        "def model_analysis(model:nn.Module,\n",
        "                    loss:nn.Module,\n",
        "                    accuracy:Accuracy,\n",
        "                    data_loader:DataLoader):\n",
        "\n",
        "    epochs =4\n",
        "    test_loss=0\n",
        "    test_acc=0\n",
        "    for count,(x,y) in enumerate(data_loader):\n",
        "        model.eval()\n",
        "        y_pred=model(x)\n",
        "        test_loss+=loss(y_pred,y)\n",
        "        test_acc+=accuracy(y_pred,y)\n",
        "    \n",
        "    test_loss/=len(data_loader)\n",
        "    test_acc/=len(data_loader)\n",
        "    test_acc*=100\n",
        "    \n",
        "    return {\n",
        "        \"Model Name\":model.__class__.__name__,\n",
        "        \"Test Loss\":test_loss.item(),\n",
        "        \"Accuracy\":test_acc.item(),\n",
        "    }"
      ]
    },
    {
      "cell_type": "code",
      "execution_count": 28,
      "metadata": {},
      "outputs": [],
      "source": [
        "model_anal0=model_analysis(model0,loss_fn0,accuracy,test_data_loader)\n",
        "model_anal1=model_analysis(model1,loss_fn1,accuracy,test_data_loader)\n",
        "model_anal3=model_analysis(model3,loss_fn3,accuracy,test_data_loader)"
      ]
    },
    {
      "cell_type": "code",
      "execution_count": 29,
      "metadata": {},
      "outputs": [
        {
          "data": {
            "text/html": [
              "<div>\n",
              "<style scoped>\n",
              "    .dataframe tbody tr th:only-of-type {\n",
              "        vertical-align: middle;\n",
              "    }\n",
              "\n",
              "    .dataframe tbody tr th {\n",
              "        vertical-align: top;\n",
              "    }\n",
              "\n",
              "    .dataframe thead th {\n",
              "        text-align: right;\n",
              "    }\n",
              "</style>\n",
              "<table border=\"1\" class=\"dataframe\">\n",
              "  <thead>\n",
              "    <tr style=\"text-align: right;\">\n",
              "      <th></th>\n",
              "      <th>Model Name</th>\n",
              "      <th>Test Loss</th>\n",
              "      <th>Accuracy</th>\n",
              "    </tr>\n",
              "  </thead>\n",
              "  <tbody>\n",
              "    <tr>\n",
              "      <th>0</th>\n",
              "      <td>Model0</td>\n",
              "      <td>0.423348</td>\n",
              "      <td>84.744415</td>\n",
              "    </tr>\n",
              "    <tr>\n",
              "      <th>1</th>\n",
              "      <td>Model1</td>\n",
              "      <td>0.841099</td>\n",
              "      <td>69.808304</td>\n",
              "    </tr>\n",
              "    <tr>\n",
              "      <th>2</th>\n",
              "      <td>Model3</td>\n",
              "      <td>0.289278</td>\n",
              "      <td>88.977638</td>\n",
              "    </tr>\n",
              "  </tbody>\n",
              "</table>\n",
              "</div>"
            ],
            "text/plain": [
              "  Model Name  Test Loss   Accuracy\n",
              "0     Model0   0.423348  84.744415\n",
              "1     Model1   0.841099  69.808304\n",
              "2     Model3   0.289278  88.977638"
            ]
          },
          "execution_count": 29,
          "metadata": {},
          "output_type": "execute_result"
        }
      ],
      "source": [
        "analysis= pd.DataFrame([model_anal0,model_anal1,model_anal3])\n",
        "analysis"
      ]
    },
    {
      "cell_type": "code",
      "execution_count": 63,
      "metadata": {},
      "outputs": [],
      "source": [
        "#Save our Model\n",
        "from pathlib import Path\n",
        "MODEL_PATH=Path(\"./Models\")\n",
        "MODEL_PATH.mkdir(parents=True,exist_ok=True)\n",
        "\n",
        "MODEL_NAME=\"computer_vision_model3.pth\"\n",
        "MODEL_SAVE_PATH=MODEL_PATH / MODEL_NAME\n",
        "\n",
        "t.save(obj=model3.state_dict(),f=MODEL_SAVE_PATH)"
      ]
    },
    {
      "attachments": {},
      "cell_type": "markdown",
      "metadata": {},
      "source": [
        "`Create a prediction function`\n",
        "\n",
        "`Take the model and corresponding parameters`\n",
        "\n",
        "`Random Data from Samples`\n",
        "\n",
        "`Raw logits -> prediction prob -> Prediction Values`\n",
        "\n",
        "`Display them`"
      ]
    },
    {
      "cell_type": "code",
      "execution_count": 31,
      "metadata": {},
      "outputs": [],
      "source": [
        "# Making predictions\n",
        "\n",
        "def prediction(model:nn.Module,\n",
        "                data:list):\n",
        "    model.eval()\n",
        "    y_pred_list=[]\n",
        "    for sample in data:\n",
        "        # sample=t.unsqueeze(sample,dim=0)\n",
        "        y_pred_logit=model(sample)\n",
        "        y_pred=t.softmax(y_pred_logit.squeeze(),dim=0)\n",
        "        y_pred_list.append(y_pred)\n",
        "    \n",
        "    return t.stack(y_pred_list)"
      ]
    },
    {
      "cell_type": "code",
      "execution_count": 32,
      "metadata": {},
      "outputs": [
        {
          "data": {
            "text/plain": [
              "tensor([[5.5137e-03, 9.7535e-05, 6.4464e-03, 1.5361e-02, 8.3328e-01, 8.3227e-12,\n",
              "         1.3352e-01, 2.0303e-11, 5.7802e-03, 1.7483e-15],\n",
              "        [3.4130e-04, 3.0970e-08, 5.8643e-05, 1.8518e-07, 5.6278e-05, 1.1220e-11,\n",
              "         1.6054e-03, 1.2443e-07, 9.9794e-01, 1.9100e-09],\n",
              "        [4.4555e-16, 3.4036e-20, 1.8484e-16, 2.0388e-17, 1.0578e-19, 2.8570e-03,\n",
              "         9.1175e-16, 1.5446e-06, 1.0446e-11, 9.9714e-01],\n",
              "        [7.5399e-05, 9.9742e-01, 4.6455e-05, 2.2405e-03, 2.1063e-04, 1.8265e-16,\n",
              "         9.3436e-06, 1.3808e-08, 3.6034e-08, 1.2420e-11],\n",
              "        [7.6578e-06, 2.2638e-06, 4.3703e-05, 1.5088e-05, 1.8383e-05, 9.9896e-01,\n",
              "         2.7019e-05, 4.4275e-04, 4.6593e-04, 2.1455e-05],\n",
              "        [8.0106e-02, 2.8672e-04, 1.7572e-01, 1.8510e-01, 2.0790e-02, 2.8910e-12,\n",
              "         5.3211e-01, 3.3610e-11, 5.8812e-03, 1.2038e-12],\n",
              "        [1.7094e-02, 2.2070e-03, 5.5395e-03, 9.6648e-01, 2.6948e-03, 3.5477e-14,\n",
              "         5.9352e-03, 5.7815e-09, 4.8405e-05, 1.2144e-09],\n",
              "        [3.0550e-04, 7.3374e-06, 7.3870e-04, 9.9631e-01, 1.1429e-05, 7.3587e-18,\n",
              "         2.6313e-03, 7.6100e-14, 2.8983e-08, 5.3448e-13],\n",
              "        [5.3545e-04, 4.8953e-04, 3.6063e-01, 4.0357e-04, 6.0262e-01, 3.4180e-15,\n",
              "         3.4814e-02, 1.6974e-13, 5.0922e-04, 4.2336e-14],\n",
              "        [4.4306e-03, 9.9316e-01, 4.6256e-05, 1.7012e-04, 1.9592e-03, 3.2603e-19,\n",
              "         2.3142e-04, 1.0544e-11, 9.0556e-08, 1.0629e-17],\n",
              "        [4.1888e-05, 9.9876e-01, 3.0416e-05, 1.1537e-03, 1.6365e-05, 3.4151e-16,\n",
              "         7.2574e-07, 2.2158e-08, 7.1726e-08, 9.9053e-12],\n",
              "        [3.2245e-02, 9.0202e-03, 2.3449e-03, 2.8480e-01, 4.3948e-01, 2.2342e-12,\n",
              "         1.6176e-01, 2.8647e-05, 7.0318e-02, 5.9739e-09]],\n",
              "       grad_fn=<StackBackward0>)"
            ]
          },
          "execution_count": 32,
          "metadata": {},
          "output_type": "execute_result"
        }
      ],
      "source": [
        "# Creating an array of random data\n",
        "import random\n",
        "\n",
        "pred_image=[]\n",
        "pred_label=[]\n",
        "for image,label in random.sample(list(test_data),k=12):\n",
        "    pred_image.append(image) # Our data for making the prediction\n",
        "    pred_label.append(label)\n",
        "\n",
        "y_pred_label=prediction(model0,pred_image)\n",
        "pred_classes=y_pred_label.argmax(dim=1)\n",
        "y_pred_label"
      ]
    },
    {
      "cell_type": "code",
      "execution_count": 33,
      "metadata": {},
      "outputs": [
        {
          "data": {
            "image/png": "[encoded data removed]",
            "text/plain": [
              "<Figure size 1200x1200 with 12 Axes>"
            ]
          },
          "metadata": {},
          "output_type": "display_data"
        }
      ],
      "source": [
        "# Displaying our Predictions\n",
        "r=4\n",
        "c=3\n",
        "plt.figure(figsize=(12,12))\n",
        "\n",
        "for i,sample in enumerate(pred_image):\n",
        "    plt.subplot(r,c,i+1)\n",
        "    plt.imshow(sample.squeeze(),cmap=\"gray\")\n",
        "    \n",
        "    true_title=class_name[pred_label[i]]\n",
        "    pred_title=class_name[pred_classes[i]]\n",
        "    if true_title==pred_title:\n",
        "        plt.title(f\"True:{true_title} || Pred: {pred_title}\",c='g')\n",
        "    else:\n",
        "        plt.title(f\"True:{true_title} || Pred: {pred_title}\",c='r')\n",
        "    plt.axis(False)"
      ]
    },
    {
      "cell_type": "code",
      "execution_count": 64,
      "metadata": {},
      "outputs": [
        {
          "data": {
            "application/vnd.jupyter.widget-view+json": {
              "model_id": "5622ed7b073f4710aba30bddb8f46563",
              "version_major": 2,
              "version_minor": 0
            },
            "text/plain": [
              "  0%|          | 0/313 [00:00<?, ?it/s]"
            ]
          },
          "metadata": {},
          "output_type": "display_data"
        }
      ],
      "source": [
        "# Confusion Matrix\n",
        "from tqdm.auto import tqdm\n",
        "\n",
        "y_preds=[]\n",
        "\n",
        "for x,y in tqdm(test_data_loader):\n",
        "    model3.eval()\n",
        "    y_pred_all_logit=model3(x)\n",
        "    y_pred_values=t.softmax(y_pred_all_logit,dim=1).argmax(dim=1)\n",
        "    y_preds.append(y_pred_values)\n",
        "\n",
        "y_preds=t.cat(y_preds)\n",
        "y_preds = list(y_preds)"
      ]
    },
    {
      "cell_type": "code",
      "execution_count": 65,
      "metadata": {},
      "outputs": [
        {
          "name": "stdout",
          "output_type": "stream",
          "text": [
            "[[673   1   8  16   0   0  43   0   1   0]\n",
            " [  0 982   0   6   1   0   2   0   1   0]\n",
            " [ 13   0 824  11  55   0  39   0   2   0]\n",
            " [ 12   9   4 871  17   0  17   0   2   0]\n",
            " [  3   2  55  28 791   0  39   0   2   0]\n",
            " [  1   0   0   0   0 981   0   7   1   2]\n",
            " [291   5 106  65 134   0 849   0   6   1]\n",
            " [  0   0   0   0   0  14   0 972   4  25]\n",
            " [  7   1   3   3   2   1  11   0 981   0]\n",
            " [  0   0   0   0   0   4   0  21   0 972]]\n"
          ]
        }
      ],
      "source": [
        "label_org = []\n",
        "for i in test_data:\n",
        "    img,label = i\n",
        "    label_org.append(label)\n",
        "\n",
        "cm = confusion_matrix(y_preds , label_org)\n",
        "print(cm)"
      ]
    },
    {
      "cell_type": "code",
      "execution_count": 66,
      "metadata": {},
      "outputs": [
        {
          "data": {
            "image/png": "[encoded data removed]",
            "text/plain": [
              "<Figure size 800x800 with 1 Axes>"
            ]
          },
          "metadata": {},
          "output_type": "display_data"
        }
      ],
      "source": [
        "y_preds = t.tensor(y_preds)\n",
        "label_org = t.tensor(label_org)\n",
        "\n",
        "confMatrix=CM(task=\"multiclass\",num_classes=len(class_name))\n",
        "\n",
        "class_label=['0','1','2','3','4','5','6','7','8','9']\n",
        "predMatrix=confMatrix(preds=y_preds,\n",
        "                            target=label_org)\n",
        "\n",
        "fig,ax=plot_confusion_matrix(\n",
        "        conf_mat=predMatrix.numpy(),\n",
        "        class_names=class_label,\n",
        "        figsize=(8,8)\n",
        "    )"
      ]
    },
    {
      "cell_type": "code",
      "execution_count": null,
      "metadata": {},
      "outputs": [],
      "source": []
    }
  ],
  "metadata": {
    "accelerator": "GPU",
    "colab": {
      "include_colab_link": true,
      "provenance": []
    },
    "gpuClass": "standard",
    "kernelspec": {
      "display_name": "Python 3",
      "language": "python",
      "name": "python3"
    },
    "language_info": {
      "codemirror_mode": {
        "name": "ipython",
        "version": 3
      },
      "file_extension": ".py",
      "mimetype": "text/x-python",
      "name": "python",
      "nbconvert_exporter": "python",
      "pygments_lexer": "ipython3",
      "version": "3.10.5"
    },
    "orig_nbformat": 4,
    "vscode": {
      "interpreter": {
        "hash": "369f2c481f4da34e4445cda3fffd2e751bd1c4d706f27375911949ba6bb62e1c"
      }
    },
    "widgets": {
      "application/vnd.jupyter.widget-state+json": {
        "023c7413029a47f4b588bf4ba2283334": {
          "model_module": "@jupyter-widgets/controls",
          "model_module_version": "1.5.0",
          "model_name": "ProgressStyleModel",
          "state": {
            "_model_module": "@jupyter-widgets/controls",
            "_model_module_version": "1.5.0",
            "_model_name": "ProgressStyleModel",
            "_view_count": null,
            "_view_module": "@jupyter-widgets/base",
            "_view_module_version": "1.2.0",
            "_view_name": "StyleView",
            "bar_color": null,
            "description_width": ""
          }
        },
        "044345562ec347418523b8cec01f04c6": {
          "model_module": "@jupyter-widgets/controls",
          "model_module_version": "1.5.0",
          "model_name": "FloatProgressModel",
          "state": {
            "_dom_classes": [],
            "_model_module": "@jupyter-widgets/controls",
            "_model_module_version": "1.5.0",
            "_model_name": "FloatProgressModel",
            "_view_count": null,
            "_view_module": "@jupyter-widgets/controls",
            "_view_module_version": "1.5.0",
            "_view_name": "ProgressView",
            "bar_style": "success",
            "description": "",
            "description_tooltip": null,
            "layout": "IPY_MODEL_49384fa27ff84bb688123ea6971bbc81",
            "max": 29515,
            "min": 0,
            "orientation": "horizontal",
            "style": "IPY_MODEL_21019e1f6a7e45fbad93f60b2c67783f",
            "value": 29515
          }
        },
        "092183c655c5441289313cdf18463bd5": {
          "model_module": "@jupyter-widgets/base",
          "model_module_version": "1.2.0",
          "model_name": "LayoutModel",
          "state": {
            "_model_module": "@jupyter-widgets/base",
            "_model_module_version": "1.2.0",
            "_model_name": "LayoutModel",
            "_view_count": null,
            "_view_module": "@jupyter-widgets/base",
            "_view_module_version": "1.2.0",
            "_view_name": "LayoutView",
            "align_content": null,
            "align_items": null,
            "align_self": null,
            "border": null,
            "bottom": null,
            "display": null,
            "flex": null,
            "flex_flow": null,
            "grid_area": null,
            "grid_auto_columns": null,
            "grid_auto_flow": null,
            "grid_auto_rows": null,
            "grid_column": null,
            "grid_gap": null,
            "grid_row": null,
            "grid_template_areas": null,
            "grid_template_columns": null,
            "grid_template_rows": null,
            "height": null,
            "justify_content": null,
            "justify_items": null,
            "left": null,
            "margin": null,
            "max_height": null,
            "max_width": null,
            "min_height": null,
            "min_width": null,
            "object_fit": null,
            "object_position": null,
            "order": null,
            "overflow": null,
            "overflow_x": null,
            "overflow_y": null,
            "padding": null,
            "right": null,
            "top": null,
            "visibility": null,
            "width": null
          }
        },
        "0b5404d0e8ec4f9687f2b80b753fea56": {
          "model_module": "@jupyter-widgets/controls",
          "model_module_version": "1.5.0",
          "model_name": "HBoxModel",
          "state": {
            "_dom_classes": [],
            "_model_module": "@jupyter-widgets/controls",
            "_model_module_version": "1.5.0",
            "_model_name": "HBoxModel",
            "_view_count": null,
            "_view_module": "@jupyter-widgets/controls",
            "_view_module_version": "1.5.0",
            "_view_name": "HBoxView",
            "box_style": "",
            "children": [
              "IPY_MODEL_4edef4a443a749ab808b8695455d0603",
              "IPY_MODEL_698c2b35525a40cd8616d0da4da411da",
              "IPY_MODEL_fc706290d5e84df88703b64e182597cf"
            ],
            "layout": "IPY_MODEL_0e291193557c4f76aeca39727bd4adf2"
          }
        },
        "0e291193557c4f76aeca39727bd4adf2": {
          "model_module": "@jupyter-widgets/base",
          "model_module_version": "1.2.0",
          "model_name": "LayoutModel",
          "state": {
            "_model_module": "@jupyter-widgets/base",
            "_model_module_version": "1.2.0",
            "_model_name": "LayoutModel",
            "_view_count": null,
            "_view_module": "@jupyter-widgets/base",
            "_view_module_version": "1.2.0",
            "_view_name": "LayoutView",
            "align_content": null,
            "align_items": null,
            "align_self": null,
            "border": null,
            "bottom": null,
            "display": null,
            "flex": null,
            "flex_flow": null,
            "grid_area": null,
            "grid_auto_columns": null,
            "grid_auto_flow": null,
            "grid_auto_rows": null,
            "grid_column": null,
            "grid_gap": null,
            "grid_row": null,
            "grid_template_areas": null,
            "grid_template_columns": null,
            "grid_template_rows": null,
            "height": null,
            "justify_content": null,
            "justify_items": null,
            "left": null,
            "margin": null,
            "max_height": null,
            "max_width": null,
            "min_height": null,
            "min_width": null,
            "object_fit": null,
            "object_position": null,
            "order": null,
            "overflow": null,
            "overflow_x": null,
            "overflow_y": null,
            "padding": null,
            "right": null,
            "top": null,
            "visibility": null,
            "width": null
          }
        },
        "11895f27bb3b46ba992420543606dadd": {
          "model_module": "@jupyter-widgets/controls",
          "model_module_version": "1.5.0",
          "model_name": "HTMLModel",
          "state": {
            "_dom_classes": [],
            "_model_module": "@jupyter-widgets/controls",
            "_model_module_version": "1.5.0",
            "_model_name": "HTMLModel",
            "_view_count": null,
            "_view_module": "@jupyter-widgets/controls",
            "_view_module_version": "1.5.0",
            "_view_name": "HTMLView",
            "description": "",
            "description_tooltip": null,
            "layout": "IPY_MODEL_7204fb7753d548fa8d79697586982658",
            "placeholder": "​",
            "style": "IPY_MODEL_34765000b25344c7bae4e87e754fb874",
            "value": " 5148/5148 [00:00&lt;00:00, 379637.76it/s]"
          }
        },
        "21019e1f6a7e45fbad93f60b2c67783f": {
          "model_module": "@jupyter-widgets/controls",
          "model_module_version": "1.5.0",
          "model_name": "ProgressStyleModel",
          "state": {
            "_model_module": "@jupyter-widgets/controls",
            "_model_module_version": "1.5.0",
            "_model_name": "ProgressStyleModel",
            "_view_count": null,
            "_view_module": "@jupyter-widgets/base",
            "_view_module_version": "1.2.0",
            "_view_name": "StyleView",
            "bar_color": null,
            "description_width": ""
          }
        },
        "278493b370fc4b3398a729bfbc906030": {
          "model_module": "@jupyter-widgets/base",
          "model_module_version": "1.2.0",
          "model_name": "LayoutModel",
          "state": {
            "_model_module": "@jupyter-widgets/base",
            "_model_module_version": "1.2.0",
            "_model_name": "LayoutModel",
            "_view_count": null,
            "_view_module": "@jupyter-widgets/base",
            "_view_module_version": "1.2.0",
            "_view_name": "LayoutView",
            "align_content": null,
            "align_items": null,
            "align_self": null,
            "border": null,
            "bottom": null,
            "display": null,
            "flex": null,
            "flex_flow": null,
            "grid_area": null,
            "grid_auto_columns": null,
            "grid_auto_flow": null,
            "grid_auto_rows": null,
            "grid_column": null,
            "grid_gap": null,
            "grid_row": null,
            "grid_template_areas": null,
            "grid_template_columns": null,
            "grid_template_rows": null,
            "height": null,
            "justify_content": null,
            "justify_items": null,
            "left": null,
            "margin": null,
            "max_height": null,
            "max_width": null,
            "min_height": null,
            "min_width": null,
            "object_fit": null,
            "object_position": null,
            "order": null,
            "overflow": null,
            "overflow_x": null,
            "overflow_y": null,
            "padding": null,
            "right": null,
            "top": null,
            "visibility": null,
            "width": null
          }
        },
        "34765000b25344c7bae4e87e754fb874": {
          "model_module": "@jupyter-widgets/controls",
          "model_module_version": "1.5.0",
          "model_name": "DescriptionStyleModel",
          "state": {
            "_model_module": "@jupyter-widgets/controls",
            "_model_module_version": "1.5.0",
            "_model_name": "DescriptionStyleModel",
            "_view_count": null,
            "_view_module": "@jupyter-widgets/base",
            "_view_module_version": "1.2.0",
            "_view_name": "StyleView",
            "description_width": ""
          }
        },
        "35d21fd28c564c59b9b096280e809571": {
          "model_module": "@jupyter-widgets/controls",
          "model_module_version": "1.5.0",
          "model_name": "DescriptionStyleModel",
          "state": {
            "_model_module": "@jupyter-widgets/controls",
            "_model_module_version": "1.5.0",
            "_model_name": "DescriptionStyleModel",
            "_view_count": null,
            "_view_module": "@jupyter-widgets/base",
            "_view_module_version": "1.2.0",
            "_view_name": "StyleView",
            "description_width": ""
          }
        },
        "3f9f9b6f99de440bb9bb28e761dfa9c0": {
          "model_module": "@jupyter-widgets/controls",
          "model_module_version": "1.5.0",
          "model_name": "HTMLModel",
          "state": {
            "_dom_classes": [],
            "_model_module": "@jupyter-widgets/controls",
            "_model_module_version": "1.5.0",
            "_model_name": "HTMLModel",
            "_view_count": null,
            "_view_module": "@jupyter-widgets/controls",
            "_view_module_version": "1.5.0",
            "_view_name": "HTMLView",
            "description": "",
            "description_tooltip": null,
            "layout": "IPY_MODEL_c0b39033793344cd9899878505beb3e2",
            "placeholder": "​",
            "style": "IPY_MODEL_41d14f13cf3143eebf5983fe296b07e5",
            "value": " 4422102/4422102 [00:00&lt;00:00, 58347196.17it/s]"
          }
        },
        "41d14f13cf3143eebf5983fe296b07e5": {
          "model_module": "@jupyter-widgets/controls",
          "model_module_version": "1.5.0",
          "model_name": "DescriptionStyleModel",
          "state": {
            "_model_module": "@jupyter-widgets/controls",
            "_model_module_version": "1.5.0",
            "_model_name": "DescriptionStyleModel",
            "_view_count": null,
            "_view_module": "@jupyter-widgets/base",
            "_view_module_version": "1.2.0",
            "_view_name": "StyleView",
            "description_width": ""
          }
        },
        "47fb1c7a4bb348cb868bb9457b4b4c41": {
          "model_module": "@jupyter-widgets/controls",
          "model_module_version": "1.5.0",
          "model_name": "HTMLModel",
          "state": {
            "_dom_classes": [],
            "_model_module": "@jupyter-widgets/controls",
            "_model_module_version": "1.5.0",
            "_model_name": "HTMLModel",
            "_view_count": null,
            "_view_module": "@jupyter-widgets/controls",
            "_view_module_version": "1.5.0",
            "_view_name": "HTMLView",
            "description": "",
            "description_tooltip": null,
            "layout": "IPY_MODEL_564497f59541450587668098172d72c0",
            "placeholder": "​",
            "style": "IPY_MODEL_58d8c4e31ccc4a52bf3b669ac2514548",
            "value": "100%"
          }
        },
        "49384fa27ff84bb688123ea6971bbc81": {
          "model_module": "@jupyter-widgets/base",
          "model_module_version": "1.2.0",
          "model_name": "LayoutModel",
          "state": {
            "_model_module": "@jupyter-widgets/base",
            "_model_module_version": "1.2.0",
            "_model_name": "LayoutModel",
            "_view_count": null,
            "_view_module": "@jupyter-widgets/base",
            "_view_module_version": "1.2.0",
            "_view_name": "LayoutView",
            "align_content": null,
            "align_items": null,
            "align_self": null,
            "border": null,
            "bottom": null,
            "display": null,
            "flex": null,
            "flex_flow": null,
            "grid_area": null,
            "grid_auto_columns": null,
            "grid_auto_flow": null,
            "grid_auto_rows": null,
            "grid_column": null,
            "grid_gap": null,
            "grid_row": null,
            "grid_template_areas": null,
            "grid_template_columns": null,
            "grid_template_rows": null,
            "height": null,
            "justify_content": null,
            "justify_items": null,
            "left": null,
            "margin": null,
            "max_height": null,
            "max_width": null,
            "min_height": null,
            "min_width": null,
            "object_fit": null,
            "object_position": null,
            "order": null,
            "overflow": null,
            "overflow_x": null,
            "overflow_y": null,
            "padding": null,
            "right": null,
            "top": null,
            "visibility": null,
            "width": null
          }
        },
        "4edef4a443a749ab808b8695455d0603": {
          "model_module": "@jupyter-widgets/controls",
          "model_module_version": "1.5.0",
          "model_name": "HTMLModel",
          "state": {
            "_dom_classes": [],
            "_model_module": "@jupyter-widgets/controls",
            "_model_module_version": "1.5.0",
            "_model_name": "HTMLModel",
            "_view_count": null,
            "_view_module": "@jupyter-widgets/controls",
            "_view_module_version": "1.5.0",
            "_view_name": "HTMLView",
            "description": "",
            "description_tooltip": null,
            "layout": "IPY_MODEL_092183c655c5441289313cdf18463bd5",
            "placeholder": "​",
            "style": "IPY_MODEL_5f18e418082d4306aaf2afd3a8a66c47",
            "value": "100%"
          }
        },
        "5135ce19957d45ed9c7b9fc41706a4b2": {
          "model_module": "@jupyter-widgets/controls",
          "model_module_version": "1.5.0",
          "model_name": "HBoxModel",
          "state": {
            "_dom_classes": [],
            "_model_module": "@jupyter-widgets/controls",
            "_model_module_version": "1.5.0",
            "_model_name": "HBoxModel",
            "_view_count": null,
            "_view_module": "@jupyter-widgets/controls",
            "_view_module_version": "1.5.0",
            "_view_name": "HBoxView",
            "box_style": "",
            "children": [
              "IPY_MODEL_47fb1c7a4bb348cb868bb9457b4b4c41",
              "IPY_MODEL_044345562ec347418523b8cec01f04c6",
              "IPY_MODEL_7e0b3ad893b249a7a8bfa3b3bf34584e"
            ],
            "layout": "IPY_MODEL_54b7c4fc9ac845a79a9477d078a7a1e6"
          }
        },
        "54b7c4fc9ac845a79a9477d078a7a1e6": {
          "model_module": "@jupyter-widgets/base",
          "model_module_version": "1.2.0",
          "model_name": "LayoutModel",
          "state": {
            "_model_module": "@jupyter-widgets/base",
            "_model_module_version": "1.2.0",
            "_model_name": "LayoutModel",
            "_view_count": null,
            "_view_module": "@jupyter-widgets/base",
            "_view_module_version": "1.2.0",
            "_view_name": "LayoutView",
            "align_content": null,
            "align_items": null,
            "align_self": null,
            "border": null,
            "bottom": null,
            "display": null,
            "flex": null,
            "flex_flow": null,
            "grid_area": null,
            "grid_auto_columns": null,
            "grid_auto_flow": null,
            "grid_auto_rows": null,
            "grid_column": null,
            "grid_gap": null,
            "grid_row": null,
            "grid_template_areas": null,
            "grid_template_columns": null,
            "grid_template_rows": null,
            "height": null,
            "justify_content": null,
            "justify_items": null,
            "left": null,
            "margin": null,
            "max_height": null,
            "max_width": null,
            "min_height": null,
            "min_width": null,
            "object_fit": null,
            "object_position": null,
            "order": null,
            "overflow": null,
            "overflow_x": null,
            "overflow_y": null,
            "padding": null,
            "right": null,
            "top": null,
            "visibility": null,
            "width": null
          }
        },
        "564497f59541450587668098172d72c0": {
          "model_module": "@jupyter-widgets/base",
          "model_module_version": "1.2.0",
          "model_name": "LayoutModel",
          "state": {
            "_model_module": "@jupyter-widgets/base",
            "_model_module_version": "1.2.0",
            "_model_name": "LayoutModel",
            "_view_count": null,
            "_view_module": "@jupyter-widgets/base",
            "_view_module_version": "1.2.0",
            "_view_name": "LayoutView",
            "align_content": null,
            "align_items": null,
            "align_self": null,
            "border": null,
            "bottom": null,
            "display": null,
            "flex": null,
            "flex_flow": null,
            "grid_area": null,
            "grid_auto_columns": null,
            "grid_auto_flow": null,
            "grid_auto_rows": null,
            "grid_column": null,
            "grid_gap": null,
            "grid_row": null,
            "grid_template_areas": null,
            "grid_template_columns": null,
            "grid_template_rows": null,
            "height": null,
            "justify_content": null,
            "justify_items": null,
            "left": null,
            "margin": null,
            "max_height": null,
            "max_width": null,
            "min_height": null,
            "min_width": null,
            "object_fit": null,
            "object_position": null,
            "order": null,
            "overflow": null,
            "overflow_x": null,
            "overflow_y": null,
            "padding": null,
            "right": null,
            "top": null,
            "visibility": null,
            "width": null
          }
        },
        "58d8c4e31ccc4a52bf3b669ac2514548": {
          "model_module": "@jupyter-widgets/controls",
          "model_module_version": "1.5.0",
          "model_name": "DescriptionStyleModel",
          "state": {
            "_model_module": "@jupyter-widgets/controls",
            "_model_module_version": "1.5.0",
            "_model_name": "DescriptionStyleModel",
            "_view_count": null,
            "_view_module": "@jupyter-widgets/base",
            "_view_module_version": "1.2.0",
            "_view_name": "StyleView",
            "description_width": ""
          }
        },
        "5a931ed1bed94270852277b6505b361e": {
          "model_module": "@jupyter-widgets/base",
          "model_module_version": "1.2.0",
          "model_name": "LayoutModel",
          "state": {
            "_model_module": "@jupyter-widgets/base",
            "_model_module_version": "1.2.0",
            "_model_name": "LayoutModel",
            "_view_count": null,
            "_view_module": "@jupyter-widgets/base",
            "_view_module_version": "1.2.0",
            "_view_name": "LayoutView",
            "align_content": null,
            "align_items": null,
            "align_self": null,
            "border": null,
            "bottom": null,
            "display": null,
            "flex": null,
            "flex_flow": null,
            "grid_area": null,
            "grid_auto_columns": null,
            "grid_auto_flow": null,
            "grid_auto_rows": null,
            "grid_column": null,
            "grid_gap": null,
            "grid_row": null,
            "grid_template_areas": null,
            "grid_template_columns": null,
            "grid_template_rows": null,
            "height": null,
            "justify_content": null,
            "justify_items": null,
            "left": null,
            "margin": null,
            "max_height": null,
            "max_width": null,
            "min_height": null,
            "min_width": null,
            "object_fit": null,
            "object_position": null,
            "order": null,
            "overflow": null,
            "overflow_x": null,
            "overflow_y": null,
            "padding": null,
            "right": null,
            "top": null,
            "visibility": null,
            "width": null
          }
        },
        "5f18e418082d4306aaf2afd3a8a66c47": {
          "model_module": "@jupyter-widgets/controls",
          "model_module_version": "1.5.0",
          "model_name": "DescriptionStyleModel",
          "state": {
            "_model_module": "@jupyter-widgets/controls",
            "_model_module_version": "1.5.0",
            "_model_name": "DescriptionStyleModel",
            "_view_count": null,
            "_view_module": "@jupyter-widgets/base",
            "_view_module_version": "1.2.0",
            "_view_name": "StyleView",
            "description_width": ""
          }
        },
        "66b3a38c138a41a59155d4b63292c19f": {
          "model_module": "@jupyter-widgets/base",
          "model_module_version": "1.2.0",
          "model_name": "LayoutModel",
          "state": {
            "_model_module": "@jupyter-widgets/base",
            "_model_module_version": "1.2.0",
            "_model_name": "LayoutModel",
            "_view_count": null,
            "_view_module": "@jupyter-widgets/base",
            "_view_module_version": "1.2.0",
            "_view_name": "LayoutView",
            "align_content": null,
            "align_items": null,
            "align_self": null,
            "border": null,
            "bottom": null,
            "display": null,
            "flex": null,
            "flex_flow": null,
            "grid_area": null,
            "grid_auto_columns": null,
            "grid_auto_flow": null,
            "grid_auto_rows": null,
            "grid_column": null,
            "grid_gap": null,
            "grid_row": null,
            "grid_template_areas": null,
            "grid_template_columns": null,
            "grid_template_rows": null,
            "height": null,
            "justify_content": null,
            "justify_items": null,
            "left": null,
            "margin": null,
            "max_height": null,
            "max_width": null,
            "min_height": null,
            "min_width": null,
            "object_fit": null,
            "object_position": null,
            "order": null,
            "overflow": null,
            "overflow_x": null,
            "overflow_y": null,
            "padding": null,
            "right": null,
            "top": null,
            "visibility": null,
            "width": null
          }
        },
        "698c2b35525a40cd8616d0da4da411da": {
          "model_module": "@jupyter-widgets/controls",
          "model_module_version": "1.5.0",
          "model_name": "FloatProgressModel",
          "state": {
            "_dom_classes": [],
            "_model_module": "@jupyter-widgets/controls",
            "_model_module_version": "1.5.0",
            "_model_name": "FloatProgressModel",
            "_view_count": null,
            "_view_module": "@jupyter-widgets/controls",
            "_view_module_version": "1.5.0",
            "_view_name": "ProgressView",
            "bar_style": "success",
            "description": "",
            "description_tooltip": null,
            "layout": "IPY_MODEL_95ee98e9c3d34f98a19be96f7949ccad",
            "max": 26421880,
            "min": 0,
            "orientation": "horizontal",
            "style": "IPY_MODEL_023c7413029a47f4b588bf4ba2283334",
            "value": 26421880
          }
        },
        "6a1a2763eda4443f8c6d14b41468ad77": {
          "model_module": "@jupyter-widgets/controls",
          "model_module_version": "1.5.0",
          "model_name": "HTMLModel",
          "state": {
            "_dom_classes": [],
            "_model_module": "@jupyter-widgets/controls",
            "_model_module_version": "1.5.0",
            "_model_name": "HTMLModel",
            "_view_count": null,
            "_view_module": "@jupyter-widgets/controls",
            "_view_module_version": "1.5.0",
            "_view_name": "HTMLView",
            "description": "",
            "description_tooltip": null,
            "layout": "IPY_MODEL_6e499bdaf2304fc5bb5e09af4acb6b12",
            "placeholder": "​",
            "style": "IPY_MODEL_8d81d52032f54bdeb1e8a446783d8b9f",
            "value": "100%"
          }
        },
        "6e499bdaf2304fc5bb5e09af4acb6b12": {
          "model_module": "@jupyter-widgets/base",
          "model_module_version": "1.2.0",
          "model_name": "LayoutModel",
          "state": {
            "_model_module": "@jupyter-widgets/base",
            "_model_module_version": "1.2.0",
            "_model_name": "LayoutModel",
            "_view_count": null,
            "_view_module": "@jupyter-widgets/base",
            "_view_module_version": "1.2.0",
            "_view_name": "LayoutView",
            "align_content": null,
            "align_items": null,
            "align_self": null,
            "border": null,
            "bottom": null,
            "display": null,
            "flex": null,
            "flex_flow": null,
            "grid_area": null,
            "grid_auto_columns": null,
            "grid_auto_flow": null,
            "grid_auto_rows": null,
            "grid_column": null,
            "grid_gap": null,
            "grid_row": null,
            "grid_template_areas": null,
            "grid_template_columns": null,
            "grid_template_rows": null,
            "height": null,
            "justify_content": null,
            "justify_items": null,
            "left": null,
            "margin": null,
            "max_height": null,
            "max_width": null,
            "min_height": null,
            "min_width": null,
            "object_fit": null,
            "object_position": null,
            "order": null,
            "overflow": null,
            "overflow_x": null,
            "overflow_y": null,
            "padding": null,
            "right": null,
            "top": null,
            "visibility": null,
            "width": null
          }
        },
        "7204fb7753d548fa8d79697586982658": {
          "model_module": "@jupyter-widgets/base",
          "model_module_version": "1.2.0",
          "model_name": "LayoutModel",
          "state": {
            "_model_module": "@jupyter-widgets/base",
            "_model_module_version": "1.2.0",
            "_model_name": "LayoutModel",
            "_view_count": null,
            "_view_module": "@jupyter-widgets/base",
            "_view_module_version": "1.2.0",
            "_view_name": "LayoutView",
            "align_content": null,
            "align_items": null,
            "align_self": null,
            "border": null,
            "bottom": null,
            "display": null,
            "flex": null,
            "flex_flow": null,
            "grid_area": null,
            "grid_auto_columns": null,
            "grid_auto_flow": null,
            "grid_auto_rows": null,
            "grid_column": null,
            "grid_gap": null,
            "grid_row": null,
            "grid_template_areas": null,
            "grid_template_columns": null,
            "grid_template_rows": null,
            "height": null,
            "justify_content": null,
            "justify_items": null,
            "left": null,
            "margin": null,
            "max_height": null,
            "max_width": null,
            "min_height": null,
            "min_width": null,
            "object_fit": null,
            "object_position": null,
            "order": null,
            "overflow": null,
            "overflow_x": null,
            "overflow_y": null,
            "padding": null,
            "right": null,
            "top": null,
            "visibility": null,
            "width": null
          }
        },
        "73535d59791b4d83ac7b95fe9d51083c": {
          "model_module": "@jupyter-widgets/controls",
          "model_module_version": "1.5.0",
          "model_name": "FloatProgressModel",
          "state": {
            "_dom_classes": [],
            "_model_module": "@jupyter-widgets/controls",
            "_model_module_version": "1.5.0",
            "_model_name": "FloatProgressModel",
            "_view_count": null,
            "_view_module": "@jupyter-widgets/controls",
            "_view_module_version": "1.5.0",
            "_view_name": "ProgressView",
            "bar_style": "success",
            "description": "",
            "description_tooltip": null,
            "layout": "IPY_MODEL_edd34d9591144397b191d012ed8dce4e",
            "max": 4422102,
            "min": 0,
            "orientation": "horizontal",
            "style": "IPY_MODEL_7ae5452196024fa287ce14ae3d9fab61",
            "value": 4422102
          }
        },
        "7ae5452196024fa287ce14ae3d9fab61": {
          "model_module": "@jupyter-widgets/controls",
          "model_module_version": "1.5.0",
          "model_name": "ProgressStyleModel",
          "state": {
            "_model_module": "@jupyter-widgets/controls",
            "_model_module_version": "1.5.0",
            "_model_name": "ProgressStyleModel",
            "_view_count": null,
            "_view_module": "@jupyter-widgets/base",
            "_view_module_version": "1.2.0",
            "_view_name": "StyleView",
            "bar_color": null,
            "description_width": ""
          }
        },
        "7e0b3ad893b249a7a8bfa3b3bf34584e": {
          "model_module": "@jupyter-widgets/controls",
          "model_module_version": "1.5.0",
          "model_name": "HTMLModel",
          "state": {
            "_dom_classes": [],
            "_model_module": "@jupyter-widgets/controls",
            "_model_module_version": "1.5.0",
            "_model_name": "HTMLModel",
            "_view_count": null,
            "_view_module": "@jupyter-widgets/controls",
            "_view_module_version": "1.5.0",
            "_view_name": "HTMLView",
            "description": "",
            "description_tooltip": null,
            "layout": "IPY_MODEL_278493b370fc4b3398a729bfbc906030",
            "placeholder": "​",
            "style": "IPY_MODEL_35d21fd28c564c59b9b096280e809571",
            "value": " 29515/29515 [00:00&lt;00:00, 1944992.50it/s]"
          }
        },
        "8d81d52032f54bdeb1e8a446783d8b9f": {
          "model_module": "@jupyter-widgets/controls",
          "model_module_version": "1.5.0",
          "model_name": "DescriptionStyleModel",
          "state": {
            "_model_module": "@jupyter-widgets/controls",
            "_model_module_version": "1.5.0",
            "_model_name": "DescriptionStyleModel",
            "_view_count": null,
            "_view_module": "@jupyter-widgets/base",
            "_view_module_version": "1.2.0",
            "_view_name": "StyleView",
            "description_width": ""
          }
        },
        "95ee98e9c3d34f98a19be96f7949ccad": {
          "model_module": "@jupyter-widgets/base",
          "model_module_version": "1.2.0",
          "model_name": "LayoutModel",
          "state": {
            "_model_module": "@jupyter-widgets/base",
            "_model_module_version": "1.2.0",
            "_model_name": "LayoutModel",
            "_view_count": null,
            "_view_module": "@jupyter-widgets/base",
            "_view_module_version": "1.2.0",
            "_view_name": "LayoutView",
            "align_content": null,
            "align_items": null,
            "align_self": null,
            "border": null,
            "bottom": null,
            "display": null,
            "flex": null,
            "flex_flow": null,
            "grid_area": null,
            "grid_auto_columns": null,
            "grid_auto_flow": null,
            "grid_auto_rows": null,
            "grid_column": null,
            "grid_gap": null,
            "grid_row": null,
            "grid_template_areas": null,
            "grid_template_columns": null,
            "grid_template_rows": null,
            "height": null,
            "justify_content": null,
            "justify_items": null,
            "left": null,
            "margin": null,
            "max_height": null,
            "max_width": null,
            "min_height": null,
            "min_width": null,
            "object_fit": null,
            "object_position": null,
            "order": null,
            "overflow": null,
            "overflow_x": null,
            "overflow_y": null,
            "padding": null,
            "right": null,
            "top": null,
            "visibility": null,
            "width": null
          }
        },
        "9b90b5d11d1d48baa275a2252123b922": {
          "model_module": "@jupyter-widgets/base",
          "model_module_version": "1.2.0",
          "model_name": "LayoutModel",
          "state": {
            "_model_module": "@jupyter-widgets/base",
            "_model_module_version": "1.2.0",
            "_model_name": "LayoutModel",
            "_view_count": null,
            "_view_module": "@jupyter-widgets/base",
            "_view_module_version": "1.2.0",
            "_view_name": "LayoutView",
            "align_content": null,
            "align_items": null,
            "align_self": null,
            "border": null,
            "bottom": null,
            "display": null,
            "flex": null,
            "flex_flow": null,
            "grid_area": null,
            "grid_auto_columns": null,
            "grid_auto_flow": null,
            "grid_auto_rows": null,
            "grid_column": null,
            "grid_gap": null,
            "grid_row": null,
            "grid_template_areas": null,
            "grid_template_columns": null,
            "grid_template_rows": null,
            "height": null,
            "justify_content": null,
            "justify_items": null,
            "left": null,
            "margin": null,
            "max_height": null,
            "max_width": null,
            "min_height": null,
            "min_width": null,
            "object_fit": null,
            "object_position": null,
            "order": null,
            "overflow": null,
            "overflow_x": null,
            "overflow_y": null,
            "padding": null,
            "right": null,
            "top": null,
            "visibility": null,
            "width": null
          }
        },
        "9e247683c47c4899be07f8da2af2debb": {
          "model_module": "@jupyter-widgets/controls",
          "model_module_version": "1.5.0",
          "model_name": "HTMLModel",
          "state": {
            "_dom_classes": [],
            "_model_module": "@jupyter-widgets/controls",
            "_model_module_version": "1.5.0",
            "_model_name": "HTMLModel",
            "_view_count": null,
            "_view_module": "@jupyter-widgets/controls",
            "_view_module_version": "1.5.0",
            "_view_name": "HTMLView",
            "description": "",
            "description_tooltip": null,
            "layout": "IPY_MODEL_5a931ed1bed94270852277b6505b361e",
            "placeholder": "​",
            "style": "IPY_MODEL_cdfbadb45d8b4d93b5386afb97963dfb",
            "value": "100%"
          }
        },
        "b70ec79a2d2146408826cc34e1899b09": {
          "model_module": "@jupyter-widgets/base",
          "model_module_version": "1.2.0",
          "model_name": "LayoutModel",
          "state": {
            "_model_module": "@jupyter-widgets/base",
            "_model_module_version": "1.2.0",
            "_model_name": "LayoutModel",
            "_view_count": null,
            "_view_module": "@jupyter-widgets/base",
            "_view_module_version": "1.2.0",
            "_view_name": "LayoutView",
            "align_content": null,
            "align_items": null,
            "align_self": null,
            "border": null,
            "bottom": null,
            "display": null,
            "flex": null,
            "flex_flow": null,
            "grid_area": null,
            "grid_auto_columns": null,
            "grid_auto_flow": null,
            "grid_auto_rows": null,
            "grid_column": null,
            "grid_gap": null,
            "grid_row": null,
            "grid_template_areas": null,
            "grid_template_columns": null,
            "grid_template_rows": null,
            "height": null,
            "justify_content": null,
            "justify_items": null,
            "left": null,
            "margin": null,
            "max_height": null,
            "max_width": null,
            "min_height": null,
            "min_width": null,
            "object_fit": null,
            "object_position": null,
            "order": null,
            "overflow": null,
            "overflow_x": null,
            "overflow_y": null,
            "padding": null,
            "right": null,
            "top": null,
            "visibility": null,
            "width": null
          }
        },
        "b8293919e0874c24ad75cffe23453199": {
          "model_module": "@jupyter-widgets/controls",
          "model_module_version": "1.5.0",
          "model_name": "FloatProgressModel",
          "state": {
            "_dom_classes": [],
            "_model_module": "@jupyter-widgets/controls",
            "_model_module_version": "1.5.0",
            "_model_name": "FloatProgressModel",
            "_view_count": null,
            "_view_module": "@jupyter-widgets/controls",
            "_view_module_version": "1.5.0",
            "_view_name": "ProgressView",
            "bar_style": "success",
            "description": "",
            "description_tooltip": null,
            "layout": "IPY_MODEL_b70ec79a2d2146408826cc34e1899b09",
            "max": 5148,
            "min": 0,
            "orientation": "horizontal",
            "style": "IPY_MODEL_f5440b5dae384f349289cd4f699c1b2e",
            "value": 5148
          }
        },
        "be003dc6e5304477b7d78d6bc05007ad": {
          "model_module": "@jupyter-widgets/controls",
          "model_module_version": "1.5.0",
          "model_name": "DescriptionStyleModel",
          "state": {
            "_model_module": "@jupyter-widgets/controls",
            "_model_module_version": "1.5.0",
            "_model_name": "DescriptionStyleModel",
            "_view_count": null,
            "_view_module": "@jupyter-widgets/base",
            "_view_module_version": "1.2.0",
            "_view_name": "StyleView",
            "description_width": ""
          }
        },
        "c0b39033793344cd9899878505beb3e2": {
          "model_module": "@jupyter-widgets/base",
          "model_module_version": "1.2.0",
          "model_name": "LayoutModel",
          "state": {
            "_model_module": "@jupyter-widgets/base",
            "_model_module_version": "1.2.0",
            "_model_name": "LayoutModel",
            "_view_count": null,
            "_view_module": "@jupyter-widgets/base",
            "_view_module_version": "1.2.0",
            "_view_name": "LayoutView",
            "align_content": null,
            "align_items": null,
            "align_self": null,
            "border": null,
            "bottom": null,
            "display": null,
            "flex": null,
            "flex_flow": null,
            "grid_area": null,
            "grid_auto_columns": null,
            "grid_auto_flow": null,
            "grid_auto_rows": null,
            "grid_column": null,
            "grid_gap": null,
            "grid_row": null,
            "grid_template_areas": null,
            "grid_template_columns": null,
            "grid_template_rows": null,
            "height": null,
            "justify_content": null,
            "justify_items": null,
            "left": null,
            "margin": null,
            "max_height": null,
            "max_width": null,
            "min_height": null,
            "min_width": null,
            "object_fit": null,
            "object_position": null,
            "order": null,
            "overflow": null,
            "overflow_x": null,
            "overflow_y": null,
            "padding": null,
            "right": null,
            "top": null,
            "visibility": null,
            "width": null
          }
        },
        "c185ec64013644a390a9eb3b35becd85": {
          "model_module": "@jupyter-widgets/controls",
          "model_module_version": "1.5.0",
          "model_name": "HBoxModel",
          "state": {
            "_dom_classes": [],
            "_model_module": "@jupyter-widgets/controls",
            "_model_module_version": "1.5.0",
            "_model_name": "HBoxModel",
            "_view_count": null,
            "_view_module": "@jupyter-widgets/controls",
            "_view_module_version": "1.5.0",
            "_view_name": "HBoxView",
            "box_style": "",
            "children": [
              "IPY_MODEL_9e247683c47c4899be07f8da2af2debb",
              "IPY_MODEL_b8293919e0874c24ad75cffe23453199",
              "IPY_MODEL_11895f27bb3b46ba992420543606dadd"
            ],
            "layout": "IPY_MODEL_e43092482e364d4ebae2c574915cc937"
          }
        },
        "cd4bec77507d49cdaf8155e124f88953": {
          "model_module": "@jupyter-widgets/controls",
          "model_module_version": "1.5.0",
          "model_name": "HBoxModel",
          "state": {
            "_dom_classes": [],
            "_model_module": "@jupyter-widgets/controls",
            "_model_module_version": "1.5.0",
            "_model_name": "HBoxModel",
            "_view_count": null,
            "_view_module": "@jupyter-widgets/controls",
            "_view_module_version": "1.5.0",
            "_view_name": "HBoxView",
            "box_style": "",
            "children": [
              "IPY_MODEL_6a1a2763eda4443f8c6d14b41468ad77",
              "IPY_MODEL_73535d59791b4d83ac7b95fe9d51083c",
              "IPY_MODEL_3f9f9b6f99de440bb9bb28e761dfa9c0"
            ],
            "layout": "IPY_MODEL_66b3a38c138a41a59155d4b63292c19f"
          }
        },
        "cdfbadb45d8b4d93b5386afb97963dfb": {
          "model_module": "@jupyter-widgets/controls",
          "model_module_version": "1.5.0",
          "model_name": "DescriptionStyleModel",
          "state": {
            "_model_module": "@jupyter-widgets/controls",
            "_model_module_version": "1.5.0",
            "_model_name": "DescriptionStyleModel",
            "_view_count": null,
            "_view_module": "@jupyter-widgets/base",
            "_view_module_version": "1.2.0",
            "_view_name": "StyleView",
            "description_width": ""
          }
        },
        "e43092482e364d4ebae2c574915cc937": {
          "model_module": "@jupyter-widgets/base",
          "model_module_version": "1.2.0",
          "model_name": "LayoutModel",
          "state": {
            "_model_module": "@jupyter-widgets/base",
            "_model_module_version": "1.2.0",
            "_model_name": "LayoutModel",
            "_view_count": null,
            "_view_module": "@jupyter-widgets/base",
            "_view_module_version": "1.2.0",
            "_view_name": "LayoutView",
            "align_content": null,
            "align_items": null,
            "align_self": null,
            "border": null,
            "bottom": null,
            "display": null,
            "flex": null,
            "flex_flow": null,
            "grid_area": null,
            "grid_auto_columns": null,
            "grid_auto_flow": null,
            "grid_auto_rows": null,
            "grid_column": null,
            "grid_gap": null,
            "grid_row": null,
            "grid_template_areas": null,
            "grid_template_columns": null,
            "grid_template_rows": null,
            "height": null,
            "justify_content": null,
            "justify_items": null,
            "left": null,
            "margin": null,
            "max_height": null,
            "max_width": null,
            "min_height": null,
            "min_width": null,
            "object_fit": null,
            "object_position": null,
            "order": null,
            "overflow": null,
            "overflow_x": null,
            "overflow_y": null,
            "padding": null,
            "right": null,
            "top": null,
            "visibility": null,
            "width": null
          }
        },
        "edd34d9591144397b191d012ed8dce4e": {
          "model_module": "@jupyter-widgets/base",
          "model_module_version": "1.2.0",
          "model_name": "LayoutModel",
          "state": {
            "_model_module": "@jupyter-widgets/base",
            "_model_module_version": "1.2.0",
            "_model_name": "LayoutModel",
            "_view_count": null,
            "_view_module": "@jupyter-widgets/base",
            "_view_module_version": "1.2.0",
            "_view_name": "LayoutView",
            "align_content": null,
            "align_items": null,
            "align_self": null,
            "border": null,
            "bottom": null,
            "display": null,
            "flex": null,
            "flex_flow": null,
            "grid_area": null,
            "grid_auto_columns": null,
            "grid_auto_flow": null,
            "grid_auto_rows": null,
            "grid_column": null,
            "grid_gap": null,
            "grid_row": null,
            "grid_template_areas": null,
            "grid_template_columns": null,
            "grid_template_rows": null,
            "height": null,
            "justify_content": null,
            "justify_items": null,
            "left": null,
            "margin": null,
            "max_height": null,
            "max_width": null,
            "min_height": null,
            "min_width": null,
            "object_fit": null,
            "object_position": null,
            "order": null,
            "overflow": null,
            "overflow_x": null,
            "overflow_y": null,
            "padding": null,
            "right": null,
            "top": null,
            "visibility": null,
            "width": null
          }
        },
        "f5440b5dae384f349289cd4f699c1b2e": {
          "model_module": "@jupyter-widgets/controls",
          "model_module_version": "1.5.0",
          "model_name": "ProgressStyleModel",
          "state": {
            "_model_module": "@jupyter-widgets/controls",
            "_model_module_version": "1.5.0",
            "_model_name": "ProgressStyleModel",
            "_view_count": null,
            "_view_module": "@jupyter-widgets/base",
            "_view_module_version": "1.2.0",
            "_view_name": "StyleView",
            "bar_color": null,
            "description_width": ""
          }
        },
        "fc706290d5e84df88703b64e182597cf": {
          "model_module": "@jupyter-widgets/controls",
          "model_module_version": "1.5.0",
          "model_name": "HTMLModel",
          "state": {
            "_dom_classes": [],
            "_model_module": "@jupyter-widgets/controls",
            "_model_module_version": "1.5.0",
            "_model_name": "HTMLModel",
            "_view_count": null,
            "_view_module": "@jupyter-widgets/controls",
            "_view_module_version": "1.5.0",
            "_view_name": "HTMLView",
            "description": "",
            "description_tooltip": null,
            "layout": "IPY_MODEL_9b90b5d11d1d48baa275a2252123b922",
            "placeholder": "​",
            "style": "IPY_MODEL_be003dc6e5304477b7d78d6bc05007ad",
            "value": " 26421880/26421880 [00:00&lt;00:00, 101819480.09it/s]"
          }
        }
      }
    }
  },
  "nbformat": 4,
  "nbformat_minor": 0
}
